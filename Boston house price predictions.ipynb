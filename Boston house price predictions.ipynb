{
 "cells": [
  {
   "cell_type": "code",
   "execution_count": 1247,
   "id": "143b7460",
   "metadata": {
    "scrolled": false
   },
   "outputs": [],
   "source": [
    "import warnings\n",
    "import numpy as np\n",
    "import pandas as pd\n",
    "import tensorflow as tf\n",
    "from sklearn import linear_model\n",
    "from matplotlib import pyplot as plt\n",
    "from tensorflow.keras.layers import Dense\n",
    "from sklearn.tree import DecisionTreeRegressor\n",
    "from tensorflow.keras.models import Sequential\n",
    "from sklearn.preprocessing import StandardScaler\n",
    "from sklearn.ensemble import RandomForestRegressor\n",
    "from sklearn.model_selection import train_test_split\n",
    "from sklearn.metrics import mean_squared_error, mean_absolute_error\n",
    "warnings.filterwarnings(\"ignore\")"
   ]
  },
  {
   "cell_type": "code",
   "execution_count": 1248,
   "id": "6628146e",
   "metadata": {},
   "outputs": [],
   "source": [
    "df=pd.read_csv(r\"\\Users\\Family\\Downloads\\archive (2)\\hou_all.csv\",header=None)"
   ]
  },
  {
   "cell_type": "code",
   "execution_count": 1249,
   "id": "cda9bda7",
   "metadata": {},
   "outputs": [],
   "source": [
    "feature_names = ['CRIM','ZN','INDUS','CHAS','NOX','RM','AGE',\n",
    "                'DIS','RAD','TAX','PTRATIO','B','LSTAT','PRICE','v']\n",
    "df.columns = feature_names  "
   ]
  },
  {
   "cell_type": "code",
   "execution_count": 1250,
   "id": "e5d384aa",
   "metadata": {
    "scrolled": true
   },
   "outputs": [
    {
     "data": {
      "text/html": [
       "<div>\n",
       "<style scoped>\n",
       "    .dataframe tbody tr th:only-of-type {\n",
       "        vertical-align: middle;\n",
       "    }\n",
       "\n",
       "    .dataframe tbody tr th {\n",
       "        vertical-align: top;\n",
       "    }\n",
       "\n",
       "    .dataframe thead th {\n",
       "        text-align: right;\n",
       "    }\n",
       "</style>\n",
       "<table border=\"1\" class=\"dataframe\">\n",
       "  <thead>\n",
       "    <tr style=\"text-align: right;\">\n",
       "      <th></th>\n",
       "      <th>CRIM</th>\n",
       "      <th>ZN</th>\n",
       "      <th>INDUS</th>\n",
       "      <th>CHAS</th>\n",
       "      <th>NOX</th>\n",
       "      <th>RM</th>\n",
       "      <th>AGE</th>\n",
       "      <th>DIS</th>\n",
       "      <th>RAD</th>\n",
       "      <th>TAX</th>\n",
       "      <th>PTRATIO</th>\n",
       "      <th>B</th>\n",
       "      <th>LSTAT</th>\n",
       "      <th>PRICE</th>\n",
       "      <th>v</th>\n",
       "    </tr>\n",
       "  </thead>\n",
       "  <tbody>\n",
       "    <tr>\n",
       "      <th>0</th>\n",
       "      <td>0.00632</td>\n",
       "      <td>18.0</td>\n",
       "      <td>2.31</td>\n",
       "      <td>0</td>\n",
       "      <td>0.538</td>\n",
       "      <td>6.575</td>\n",
       "      <td>65.2</td>\n",
       "      <td>4.0900</td>\n",
       "      <td>1</td>\n",
       "      <td>296</td>\n",
       "      <td>15.3</td>\n",
       "      <td>396.90</td>\n",
       "      <td>4.98</td>\n",
       "      <td>24.0</td>\n",
       "      <td>1</td>\n",
       "    </tr>\n",
       "    <tr>\n",
       "      <th>1</th>\n",
       "      <td>0.02731</td>\n",
       "      <td>0.0</td>\n",
       "      <td>7.07</td>\n",
       "      <td>0</td>\n",
       "      <td>0.469</td>\n",
       "      <td>6.421</td>\n",
       "      <td>78.9</td>\n",
       "      <td>4.9671</td>\n",
       "      <td>2</td>\n",
       "      <td>242</td>\n",
       "      <td>17.8</td>\n",
       "      <td>396.90</td>\n",
       "      <td>9.14</td>\n",
       "      <td>21.6</td>\n",
       "      <td>1</td>\n",
       "    </tr>\n",
       "    <tr>\n",
       "      <th>2</th>\n",
       "      <td>0.02729</td>\n",
       "      <td>0.0</td>\n",
       "      <td>7.07</td>\n",
       "      <td>0</td>\n",
       "      <td>0.469</td>\n",
       "      <td>7.185</td>\n",
       "      <td>61.1</td>\n",
       "      <td>4.9671</td>\n",
       "      <td>2</td>\n",
       "      <td>242</td>\n",
       "      <td>17.8</td>\n",
       "      <td>392.83</td>\n",
       "      <td>4.03</td>\n",
       "      <td>34.7</td>\n",
       "      <td>1</td>\n",
       "    </tr>\n",
       "    <tr>\n",
       "      <th>3</th>\n",
       "      <td>0.03237</td>\n",
       "      <td>0.0</td>\n",
       "      <td>2.18</td>\n",
       "      <td>0</td>\n",
       "      <td>0.458</td>\n",
       "      <td>6.998</td>\n",
       "      <td>45.8</td>\n",
       "      <td>6.0622</td>\n",
       "      <td>3</td>\n",
       "      <td>222</td>\n",
       "      <td>18.7</td>\n",
       "      <td>394.63</td>\n",
       "      <td>2.94</td>\n",
       "      <td>33.4</td>\n",
       "      <td>1</td>\n",
       "    </tr>\n",
       "    <tr>\n",
       "      <th>4</th>\n",
       "      <td>0.06905</td>\n",
       "      <td>0.0</td>\n",
       "      <td>2.18</td>\n",
       "      <td>0</td>\n",
       "      <td>0.458</td>\n",
       "      <td>7.147</td>\n",
       "      <td>54.2</td>\n",
       "      <td>6.0622</td>\n",
       "      <td>3</td>\n",
       "      <td>222</td>\n",
       "      <td>18.7</td>\n",
       "      <td>396.90</td>\n",
       "      <td>5.33</td>\n",
       "      <td>36.2</td>\n",
       "      <td>1</td>\n",
       "    </tr>\n",
       "  </tbody>\n",
       "</table>\n",
       "</div>"
      ],
      "text/plain": [
       "      CRIM    ZN  INDUS  CHAS    NOX     RM   AGE     DIS  RAD  TAX  PTRATIO       B  LSTAT  PRICE  v\n",
       "0  0.00632  18.0   2.31     0  0.538  6.575  65.2  4.0900    1  296     15.3  396.90   4.98   24.0  1\n",
       "1  0.02731   0.0   7.07     0  0.469  6.421  78.9  4.9671    2  242     17.8  396.90   9.14   21.6  1\n",
       "2  0.02729   0.0   7.07     0  0.469  7.185  61.1  4.9671    2  242     17.8  392.83   4.03   34.7  1\n",
       "3  0.03237   0.0   2.18     0  0.458  6.998  45.8  6.0622    3  222     18.7  394.63   2.94   33.4  1\n",
       "4  0.06905   0.0   2.18     0  0.458  7.147  54.2  6.0622    3  222     18.7  396.90   5.33   36.2  1"
      ]
     },
     "execution_count": 1250,
     "metadata": {},
     "output_type": "execute_result"
    }
   ],
   "source": [
    "df.head()"
   ]
  },
  {
   "cell_type": "markdown",
   "id": "1586633e",
   "metadata": {},
   "source": [
    "CRIM: per capita crime rate by town\n",
    "\n",
    "ZN: proportion of residential land zoned for lots over 25,000 sq.ft.\n",
    "\n",
    "INDUS: proportion of non_retial business acres per town\n",
    "\n",
    "CHAS: Charles River dummy variable (equal 1 if track nbounds river and 0 otherwise)\n",
    "\n",
    "NOX: nitric oxides concetration (parts per 10 million)\n",
    "\n",
    "RM: average number of rooms per dwelling \n",
    "\n",
    "AGE: proportionrtion of owner-occupied units built prior to 1940\n",
    "\n",
    "DIS: weighted distances to five Boston employment centers\n",
    "\n",
    "RAD: index of accessibility to radial highways\n",
    "\n",
    "TAX: full-value property-tax rate per $10,000\n",
    "\n",
    "PTRATIO: pupil-teacher ratio by town\n",
    "\n",
    "B: 1000(BK - 0.63)^2 where BK is the proportion of blacks by town\n",
    "\n",
    "LSTAT: % lower status of the population\n",
    "\n",
    "PRICE (MEDV): Median value of owner-occupied homes in $1000's\n",
    "    "
   ]
  },
  {
   "cell_type": "code",
   "execution_count": 1251,
   "id": "03e663bc",
   "metadata": {
    "scrolled": true
   },
   "outputs": [
    {
     "name": "stdout",
     "output_type": "stream",
     "text": [
      "<class 'pandas.core.frame.DataFrame'>\n",
      "RangeIndex: 506 entries, 0 to 505\n",
      "Data columns (total 15 columns):\n",
      " #   Column   Non-Null Count  Dtype  \n",
      "---  ------   --------------  -----  \n",
      " 0   CRIM     506 non-null    float64\n",
      " 1   ZN       506 non-null    float64\n",
      " 2   INDUS    506 non-null    float64\n",
      " 3   CHAS     506 non-null    int64  \n",
      " 4   NOX      506 non-null    float64\n",
      " 5   RM       506 non-null    float64\n",
      " 6   AGE      506 non-null    float64\n",
      " 7   DIS      506 non-null    float64\n",
      " 8   RAD      506 non-null    int64  \n",
      " 9   TAX      506 non-null    int64  \n",
      " 10  PTRATIO  506 non-null    float64\n",
      " 11  B        506 non-null    float64\n",
      " 12  LSTAT    506 non-null    float64\n",
      " 13  PRICE    506 non-null    float64\n",
      " 14  v        506 non-null    int64  \n",
      "dtypes: float64(11), int64(4)\n",
      "memory usage: 59.4 KB\n"
     ]
    }
   ],
   "source": [
    "df.info()"
   ]
  },
  {
   "cell_type": "code",
   "execution_count": 1252,
   "id": "4ac581df",
   "metadata": {},
   "outputs": [],
   "source": [
    "x=df.drop(['PRICE','v'],axis=1)\n",
    "y=df['PRICE']"
   ]
  },
  {
   "cell_type": "code",
   "execution_count": 1253,
   "id": "d007336c",
   "metadata": {},
   "outputs": [],
   "source": [
    "x_train,x_test,y_train,y_test = train_test_split(x,y,test_size=0.2,random_state=46)"
   ]
  },
  {
   "cell_type": "code",
   "execution_count": 1254,
   "id": "e0c08011",
   "metadata": {},
   "outputs": [],
   "source": [
    "scaler = StandardScaler()\n",
    "scaler.fit(x_train)\n",
    "x_train_scaled=scaler.transform(x_train)\n",
    "x_test_scaled=scaler.transform(x_test)"
   ]
  },
  {
   "cell_type": "code",
   "execution_count": 1255,
   "id": "1f523216",
   "metadata": {},
   "outputs": [],
   "source": [
    "tf.random.set_seed(0)\n",
    "model = Sequential()\n",
    "model.add(Dense(128,input_dim=13,activation='relu'))\n",
    "model.add(Dense(64,activation='relu'))\n",
    "model.add(Dense(1,activation='linear'))"
   ]
  },
  {
   "cell_type": "code",
   "execution_count": 1256,
   "id": "1c7ad405",
   "metadata": {},
   "outputs": [],
   "source": [
    "model.compile(loss='mean_squared_error',optimizer='adam',metrics=['mae'])"
   ]
  },
  {
   "cell_type": "code",
   "execution_count": 1257,
   "id": "e2f77ea8",
   "metadata": {},
   "outputs": [
    {
     "name": "stdout",
     "output_type": "stream",
     "text": [
      "Model: \"sequential_53\"\n",
      "_________________________________________________________________\n",
      " Layer (type)                Output Shape              Param #   \n",
      "=================================================================\n",
      " dense_159 (Dense)           (None, 128)               1792      \n",
      "                                                                 \n",
      " dense_160 (Dense)           (None, 64)                8256      \n",
      "                                                                 \n",
      " dense_161 (Dense)           (None, 1)                 65        \n",
      "                                                                 \n",
      "=================================================================\n",
      "Total params: 10113 (39.50 KB)\n",
      "Trainable params: 10113 (39.50 KB)\n",
      "Non-trainable params: 0 (0.00 Byte)\n",
      "_________________________________________________________________\n"
     ]
    }
   ],
   "source": [
    "model.summary()"
   ]
  },
  {
   "cell_type": "code",
   "execution_count": 1258,
   "id": "a0cf3c0c",
   "metadata": {},
   "outputs": [
    {
     "name": "stdout",
     "output_type": "stream",
     "text": [
      "Epoch 1/155\n",
      "11/11 [==============================] - 2s 44ms/step - loss: 613.8728 - mae: 22.8584 - val_loss: 497.8931 - val_mae: 20.5156\n",
      "Epoch 2/155\n",
      "11/11 [==============================] - 0s 9ms/step - loss: 557.5847 - mae: 21.5750 - val_loss: 442.3434 - val_mae: 19.1035\n",
      "Epoch 3/155\n",
      "11/11 [==============================] - 0s 10ms/step - loss: 492.0246 - mae: 20.0647 - val_loss: 373.8744 - val_mae: 17.2968\n",
      "Epoch 4/155\n",
      "11/11 [==============================] - 0s 9ms/step - loss: 408.9019 - mae: 18.0492 - val_loss: 287.2453 - val_mae: 14.9198\n",
      "Epoch 5/155\n",
      "11/11 [==============================] - 0s 9ms/step - loss: 304.9436 - mae: 15.3011 - val_loss: 188.4126 - val_mae: 11.8202\n",
      "Epoch 6/155\n",
      "11/11 [==============================] - 0s 9ms/step - loss: 194.0822 - mae: 11.7717 - val_loss: 100.6293 - val_mae: 8.2101\n",
      "Epoch 7/155\n",
      "11/11 [==============================] - 0s 10ms/step - loss: 107.9594 - mae: 8.3017 - val_loss: 53.9949 - val_mae: 5.5679\n",
      "Epoch 8/155\n",
      "11/11 [==============================] - 0s 10ms/step - loss: 64.6667 - mae: 6.2510 - val_loss: 40.6355 - val_mae: 4.8546\n",
      "Epoch 9/155\n",
      "11/11 [==============================] - 0s 9ms/step - loss: 49.4891 - mae: 5.4001 - val_loss: 31.0143 - val_mae: 4.1739\n",
      "Epoch 10/155\n",
      "11/11 [==============================] - 0s 10ms/step - loss: 38.0806 - mae: 4.6886 - val_loss: 24.7600 - val_mae: 3.6123\n",
      "Epoch 11/155\n",
      "11/11 [==============================] - 0s 12ms/step - loss: 31.8119 - mae: 4.1772 - val_loss: 21.7363 - val_mae: 3.3184\n",
      "Epoch 12/155\n",
      "11/11 [==============================] - 0s 13ms/step - loss: 28.1346 - mae: 3.8454 - val_loss: 20.1374 - val_mae: 3.0368\n",
      "Epoch 13/155\n",
      "11/11 [==============================] - 0s 13ms/step - loss: 26.1301 - mae: 3.6674 - val_loss: 19.5142 - val_mae: 2.9917\n",
      "Epoch 14/155\n",
      "11/11 [==============================] - 0s 13ms/step - loss: 24.7992 - mae: 3.5668 - val_loss: 19.2302 - val_mae: 2.9756\n",
      "Epoch 15/155\n",
      "11/11 [==============================] - 0s 11ms/step - loss: 23.6481 - mae: 3.4507 - val_loss: 19.5416 - val_mae: 3.0109\n",
      "Epoch 16/155\n",
      "11/11 [==============================] - 0s 9ms/step - loss: 22.8711 - mae: 3.3694 - val_loss: 19.2567 - val_mae: 3.0115\n",
      "Epoch 17/155\n",
      "11/11 [==============================] - 0s 10ms/step - loss: 21.9563 - mae: 3.3050 - val_loss: 18.5395 - val_mae: 2.9651\n",
      "Epoch 18/155\n",
      "11/11 [==============================] - 0s 9ms/step - loss: 21.1021 - mae: 3.2688 - val_loss: 18.1148 - val_mae: 2.9282\n",
      "Epoch 19/155\n",
      "11/11 [==============================] - 0s 9ms/step - loss: 20.4893 - mae: 3.2227 - val_loss: 17.6163 - val_mae: 2.8264\n",
      "Epoch 20/155\n",
      "11/11 [==============================] - 0s 9ms/step - loss: 19.8917 - mae: 3.1502 - val_loss: 17.6837 - val_mae: 2.8033\n",
      "Epoch 21/155\n",
      "11/11 [==============================] - 0s 12ms/step - loss: 19.3717 - mae: 3.0801 - val_loss: 17.5982 - val_mae: 2.8006\n",
      "Epoch 22/155\n",
      "11/11 [==============================] - 0s 9ms/step - loss: 18.8151 - mae: 3.0264 - val_loss: 17.2022 - val_mae: 2.7465\n",
      "Epoch 23/155\n",
      "11/11 [==============================] - 0s 10ms/step - loss: 18.4359 - mae: 3.0232 - val_loss: 16.7690 - val_mae: 2.6777\n",
      "Epoch 24/155\n",
      "11/11 [==============================] - 0s 9ms/step - loss: 18.0660 - mae: 3.0120 - val_loss: 16.6061 - val_mae: 2.6742\n",
      "Epoch 25/155\n",
      "11/11 [==============================] - 0s 9ms/step - loss: 17.5654 - mae: 2.9479 - val_loss: 16.5178 - val_mae: 2.6299\n",
      "Epoch 26/155\n",
      "11/11 [==============================] - 0s 9ms/step - loss: 17.1848 - mae: 2.8944 - val_loss: 16.0863 - val_mae: 2.5373\n",
      "Epoch 27/155\n",
      "11/11 [==============================] - 0s 10ms/step - loss: 16.9353 - mae: 2.8767 - val_loss: 15.7159 - val_mae: 2.4772\n",
      "Epoch 28/155\n",
      "11/11 [==============================] - 0s 9ms/step - loss: 16.7348 - mae: 2.8660 - val_loss: 15.4317 - val_mae: 2.5203\n",
      "Epoch 29/155\n",
      "11/11 [==============================] - 0s 9ms/step - loss: 16.2282 - mae: 2.8122 - val_loss: 15.2378 - val_mae: 2.4373\n",
      "Epoch 30/155\n",
      "11/11 [==============================] - 0s 9ms/step - loss: 16.0212 - mae: 2.8004 - val_loss: 15.0789 - val_mae: 2.3686\n",
      "Epoch 31/155\n",
      "11/11 [==============================] - 0s 9ms/step - loss: 15.7013 - mae: 2.7856 - val_loss: 14.8438 - val_mae: 2.3525\n",
      "Epoch 32/155\n",
      "11/11 [==============================] - 0s 10ms/step - loss: 15.5062 - mae: 2.7698 - val_loss: 14.5819 - val_mae: 2.3158\n",
      "Epoch 33/155\n",
      "11/11 [==============================] - 0s 10ms/step - loss: 15.2828 - mae: 2.7561 - val_loss: 14.2219 - val_mae: 2.2444\n",
      "Epoch 34/155\n",
      "11/11 [==============================] - 0s 9ms/step - loss: 15.1153 - mae: 2.7481 - val_loss: 14.4270 - val_mae: 2.2205\n",
      "Epoch 35/155\n",
      "11/11 [==============================] - 0s 10ms/step - loss: 15.0427 - mae: 2.7573 - val_loss: 14.9580 - val_mae: 2.3916\n",
      "Epoch 36/155\n",
      "11/11 [==============================] - 0s 10ms/step - loss: 14.7592 - mae: 2.7226 - val_loss: 14.7615 - val_mae: 2.3361\n",
      "Epoch 37/155\n",
      "11/11 [==============================] - 0s 9ms/step - loss: 14.4861 - mae: 2.6907 - val_loss: 14.8388 - val_mae: 2.2785\n",
      "Epoch 38/155\n",
      "11/11 [==============================] - 0s 9ms/step - loss: 14.2466 - mae: 2.6778 - val_loss: 14.3677 - val_mae: 2.2302\n",
      "Epoch 39/155\n",
      "11/11 [==============================] - 0s 9ms/step - loss: 14.0187 - mae: 2.6693 - val_loss: 13.9332 - val_mae: 2.1747\n",
      "Epoch 40/155\n",
      "11/11 [==============================] - 0s 9ms/step - loss: 13.7972 - mae: 2.6453 - val_loss: 13.4556 - val_mae: 2.1430\n",
      "Epoch 41/155\n",
      "11/11 [==============================] - 0s 9ms/step - loss: 13.7360 - mae: 2.6291 - val_loss: 13.5367 - val_mae: 2.2200\n",
      "Epoch 42/155\n",
      "11/11 [==============================] - 0s 9ms/step - loss: 13.5876 - mae: 2.6084 - val_loss: 13.2312 - val_mae: 2.1194\n",
      "Epoch 43/155\n",
      "11/11 [==============================] - 0s 9ms/step - loss: 13.4239 - mae: 2.5779 - val_loss: 13.3418 - val_mae: 2.0934\n",
      "Epoch 44/155\n",
      "11/11 [==============================] - 0s 9ms/step - loss: 13.3036 - mae: 2.6051 - val_loss: 12.2083 - val_mae: 2.2119\n",
      "Epoch 45/155\n",
      "11/11 [==============================] - 0s 9ms/step - loss: 13.4932 - mae: 2.5884 - val_loss: 11.6676 - val_mae: 2.1213\n",
      "Epoch 46/155\n",
      "11/11 [==============================] - 0s 9ms/step - loss: 13.1279 - mae: 2.5521 - val_loss: 11.4295 - val_mae: 2.0757\n",
      "Epoch 47/155\n",
      "11/11 [==============================] - 0s 9ms/step - loss: 13.0398 - mae: 2.5349 - val_loss: 11.6456 - val_mae: 2.0555\n",
      "Epoch 48/155\n",
      "11/11 [==============================] - 0s 9ms/step - loss: 12.6670 - mae: 2.5095 - val_loss: 11.7240 - val_mae: 2.0342\n",
      "Epoch 49/155\n",
      "11/11 [==============================] - 0s 9ms/step - loss: 12.5720 - mae: 2.5039 - val_loss: 11.6596 - val_mae: 2.0128\n",
      "Epoch 50/155\n",
      "11/11 [==============================] - 0s 15ms/step - loss: 12.3503 - mae: 2.4859 - val_loss: 11.4315 - val_mae: 2.0449\n",
      "Epoch 51/155\n",
      "11/11 [==============================] - 0s 13ms/step - loss: 12.2728 - mae: 2.4758 - val_loss: 11.6056 - val_mae: 2.0037\n",
      "Epoch 52/155\n",
      "11/11 [==============================] - 0s 9ms/step - loss: 12.1923 - mae: 2.4658 - val_loss: 11.6394 - val_mae: 2.0504\n",
      "Epoch 53/155\n",
      "11/11 [==============================] - 0s 9ms/step - loss: 12.3520 - mae: 2.4766 - val_loss: 12.0038 - val_mae: 2.0784\n",
      "Epoch 54/155\n",
      "11/11 [==============================] - 0s 9ms/step - loss: 12.2887 - mae: 2.4756 - val_loss: 11.6721 - val_mae: 2.0520\n",
      "Epoch 55/155\n",
      "11/11 [==============================] - 0s 9ms/step - loss: 11.9402 - mae: 2.4410 - val_loss: 11.7734 - val_mae: 2.0038\n",
      "Epoch 56/155\n",
      "11/11 [==============================] - 0s 9ms/step - loss: 11.7932 - mae: 2.4332 - val_loss: 11.5084 - val_mae: 1.9901\n",
      "Epoch 57/155\n",
      "11/11 [==============================] - 0s 10ms/step - loss: 11.5937 - mae: 2.4135 - val_loss: 11.2759 - val_mae: 1.9782\n",
      "Epoch 58/155\n",
      "11/11 [==============================] - 0s 9ms/step - loss: 11.4642 - mae: 2.3980 - val_loss: 11.1663 - val_mae: 1.9727\n",
      "Epoch 59/155\n",
      "11/11 [==============================] - 0s 9ms/step - loss: 11.4074 - mae: 2.3714 - val_loss: 11.2423 - val_mae: 1.9874\n",
      "Epoch 60/155\n",
      "11/11 [==============================] - 0s 9ms/step - loss: 11.3155 - mae: 2.3769 - val_loss: 11.0202 - val_mae: 1.9705\n",
      "Epoch 61/155\n",
      "11/11 [==============================] - 0s 9ms/step - loss: 11.2308 - mae: 2.3665 - val_loss: 11.0281 - val_mae: 1.9742\n"
     ]
    },
    {
     "name": "stdout",
     "output_type": "stream",
     "text": [
      "Epoch 62/155\n",
      "11/11 [==============================] - 0s 9ms/step - loss: 11.2181 - mae: 2.3791 - val_loss: 11.2630 - val_mae: 1.9892\n",
      "Epoch 63/155\n",
      "11/11 [==============================] - 0s 8ms/step - loss: 11.0651 - mae: 2.3588 - val_loss: 11.1972 - val_mae: 1.9758\n",
      "Epoch 64/155\n",
      "11/11 [==============================] - 0s 9ms/step - loss: 11.0858 - mae: 2.3611 - val_loss: 11.0964 - val_mae: 1.9616\n",
      "Epoch 65/155\n",
      "11/11 [==============================] - 0s 9ms/step - loss: 10.9051 - mae: 2.3564 - val_loss: 11.1033 - val_mae: 1.9566\n",
      "Epoch 66/155\n",
      "11/11 [==============================] - 0s 9ms/step - loss: 10.8233 - mae: 2.3333 - val_loss: 10.8217 - val_mae: 1.9367\n",
      "Epoch 67/155\n",
      "11/11 [==============================] - 0s 9ms/step - loss: 10.7425 - mae: 2.3200 - val_loss: 10.9917 - val_mae: 1.9423\n",
      "Epoch 68/155\n",
      "11/11 [==============================] - 0s 9ms/step - loss: 10.6810 - mae: 2.3253 - val_loss: 10.9074 - val_mae: 1.9405\n",
      "Epoch 69/155\n",
      "11/11 [==============================] - 0s 9ms/step - loss: 10.9389 - mae: 2.3814 - val_loss: 10.9087 - val_mae: 2.0596\n",
      "Epoch 70/155\n",
      "11/11 [==============================] - 0s 9ms/step - loss: 10.9350 - mae: 2.3681 - val_loss: 10.8759 - val_mae: 1.9601\n",
      "Epoch 71/155\n",
      "11/11 [==============================] - 0s 9ms/step - loss: 10.4295 - mae: 2.3072 - val_loss: 10.8740 - val_mae: 1.9515\n",
      "Epoch 72/155\n",
      "11/11 [==============================] - 0s 9ms/step - loss: 10.3692 - mae: 2.2999 - val_loss: 11.2500 - val_mae: 2.0110\n",
      "Epoch 73/155\n",
      "11/11 [==============================] - 0s 9ms/step - loss: 10.3476 - mae: 2.2977 - val_loss: 10.8564 - val_mae: 1.9466\n",
      "Epoch 74/155\n",
      "11/11 [==============================] - 0s 9ms/step - loss: 10.4024 - mae: 2.2952 - val_loss: 10.5118 - val_mae: 1.9492\n",
      "Epoch 75/155\n",
      "11/11 [==============================] - 0s 10ms/step - loss: 10.1012 - mae: 2.2574 - val_loss: 11.0685 - val_mae: 1.9948\n",
      "Epoch 76/155\n",
      "11/11 [==============================] - 0s 12ms/step - loss: 9.9541 - mae: 2.2504 - val_loss: 10.7313 - val_mae: 1.9623\n",
      "Epoch 77/155\n",
      "11/11 [==============================] - 0s 12ms/step - loss: 9.9532 - mae: 2.2696 - val_loss: 10.6599 - val_mae: 1.9535\n",
      "Epoch 78/155\n",
      "11/11 [==============================] - 0s 13ms/step - loss: 9.6830 - mae: 2.2050 - val_loss: 10.9741 - val_mae: 1.9762\n",
      "Epoch 79/155\n",
      "11/11 [==============================] - 0s 9ms/step - loss: 9.8948 - mae: 2.2111 - val_loss: 10.5785 - val_mae: 1.9331\n",
      "Epoch 80/155\n",
      "11/11 [==============================] - 0s 9ms/step - loss: 9.6063 - mae: 2.1956 - val_loss: 10.9255 - val_mae: 1.9616\n",
      "Epoch 81/155\n",
      "11/11 [==============================] - 0s 11ms/step - loss: 9.6467 - mae: 2.2160 - val_loss: 10.6483 - val_mae: 1.9750\n",
      "Epoch 82/155\n",
      "11/11 [==============================] - 0s 11ms/step - loss: 9.5520 - mae: 2.2042 - val_loss: 10.8100 - val_mae: 1.9549\n",
      "Epoch 83/155\n",
      "11/11 [==============================] - 0s 11ms/step - loss: 9.4174 - mae: 2.1870 - val_loss: 10.6962 - val_mae: 1.9774\n",
      "Epoch 84/155\n",
      "11/11 [==============================] - 0s 10ms/step - loss: 9.3032 - mae: 2.1749 - val_loss: 10.0049 - val_mae: 1.8963\n",
      "Epoch 85/155\n",
      "11/11 [==============================] - 0s 10ms/step - loss: 9.1965 - mae: 2.1481 - val_loss: 10.2903 - val_mae: 1.9157\n",
      "Epoch 86/155\n",
      "11/11 [==============================] - 0s 10ms/step - loss: 9.4295 - mae: 2.1815 - val_loss: 10.3753 - val_mae: 1.9493\n",
      "Epoch 87/155\n",
      "11/11 [==============================] - 0s 11ms/step - loss: 9.1071 - mae: 2.1412 - val_loss: 9.8588 - val_mae: 1.8738\n",
      "Epoch 88/155\n",
      "11/11 [==============================] - 0s 11ms/step - loss: 9.1073 - mae: 2.1482 - val_loss: 10.3590 - val_mae: 1.9808\n",
      "Epoch 89/155\n",
      "11/11 [==============================] - 0s 11ms/step - loss: 9.3154 - mae: 2.1891 - val_loss: 10.0975 - val_mae: 1.9271\n",
      "Epoch 90/155\n",
      "11/11 [==============================] - 0s 11ms/step - loss: 9.0438 - mae: 2.1346 - val_loss: 10.2421 - val_mae: 1.9268\n",
      "Epoch 91/155\n",
      "11/11 [==============================] - 0s 11ms/step - loss: 8.9124 - mae: 2.1120 - val_loss: 10.0588 - val_mae: 1.9078\n",
      "Epoch 92/155\n",
      "11/11 [==============================] - 0s 9ms/step - loss: 8.7859 - mae: 2.1047 - val_loss: 10.4483 - val_mae: 1.9754\n",
      "Epoch 93/155\n",
      "11/11 [==============================] - 0s 10ms/step - loss: 8.7027 - mae: 2.1066 - val_loss: 10.0693 - val_mae: 1.9296\n",
      "Epoch 94/155\n",
      "11/11 [==============================] - 0s 9ms/step - loss: 8.6517 - mae: 2.1138 - val_loss: 10.2290 - val_mae: 1.9689\n",
      "Epoch 95/155\n",
      "11/11 [==============================] - 0s 9ms/step - loss: 8.8643 - mae: 2.1347 - val_loss: 10.4269 - val_mae: 1.9974\n",
      "Epoch 96/155\n",
      "11/11 [==============================] - 0s 9ms/step - loss: 8.4342 - mae: 2.0637 - val_loss: 9.8499 - val_mae: 1.9158\n",
      "Epoch 97/155\n",
      "11/11 [==============================] - 0s 9ms/step - loss: 8.4279 - mae: 2.0646 - val_loss: 9.9663 - val_mae: 1.9546\n",
      "Epoch 98/155\n",
      "11/11 [==============================] - 0s 12ms/step - loss: 8.6334 - mae: 2.0977 - val_loss: 9.9452 - val_mae: 1.9637\n",
      "Epoch 99/155\n",
      "11/11 [==============================] - 0s 12ms/step - loss: 8.2938 - mae: 2.0267 - val_loss: 9.4229 - val_mae: 1.9240\n",
      "Epoch 100/155\n",
      "11/11 [==============================] - 0s 12ms/step - loss: 8.2913 - mae: 2.0378 - val_loss: 9.6649 - val_mae: 1.9135\n",
      "Epoch 101/155\n",
      "11/11 [==============================] - 0s 10ms/step - loss: 8.2224 - mae: 2.0209 - val_loss: 9.8484 - val_mae: 1.9517\n",
      "Epoch 102/155\n",
      "11/11 [==============================] - 0s 9ms/step - loss: 8.1217 - mae: 2.0107 - val_loss: 9.5620 - val_mae: 1.8853\n",
      "Epoch 103/155\n",
      "11/11 [==============================] - 0s 9ms/step - loss: 8.2683 - mae: 2.0215 - val_loss: 9.7436 - val_mae: 1.9333\n",
      "Epoch 104/155\n",
      "11/11 [==============================] - 0s 9ms/step - loss: 8.2416 - mae: 2.0494 - val_loss: 9.3957 - val_mae: 1.9205\n",
      "Epoch 105/155\n",
      "11/11 [==============================] - 0s 9ms/step - loss: 8.1511 - mae: 2.0283 - val_loss: 10.1302 - val_mae: 1.9615\n",
      "Epoch 106/155\n",
      "11/11 [==============================] - 0s 9ms/step - loss: 8.2132 - mae: 2.0423 - val_loss: 10.1061 - val_mae: 2.0459\n",
      "Epoch 107/155\n",
      "11/11 [==============================] - 0s 9ms/step - loss: 7.9265 - mae: 1.9948 - val_loss: 9.4398 - val_mae: 1.9134\n",
      "Epoch 108/155\n",
      "11/11 [==============================] - 0s 9ms/step - loss: 7.9706 - mae: 2.0048 - val_loss: 9.1416 - val_mae: 1.8937\n",
      "Epoch 109/155\n",
      "11/11 [==============================] - 0s 9ms/step - loss: 7.7886 - mae: 1.9866 - val_loss: 9.1701 - val_mae: 1.9358\n",
      "Epoch 110/155\n",
      "11/11 [==============================] - 0s 9ms/step - loss: 7.7261 - mae: 1.9769 - val_loss: 9.5740 - val_mae: 1.9566\n",
      "Epoch 111/155\n",
      "11/11 [==============================] - 0s 9ms/step - loss: 7.6419 - mae: 1.9690 - val_loss: 9.2720 - val_mae: 1.9281\n",
      "Epoch 112/155\n",
      "11/11 [==============================] - 0s 9ms/step - loss: 7.6515 - mae: 1.9560 - val_loss: 9.5184 - val_mae: 1.9398\n",
      "Epoch 113/155\n",
      "11/11 [==============================] - 0s 9ms/step - loss: 7.7283 - mae: 1.9925 - val_loss: 9.5432 - val_mae: 2.0048\n",
      "Epoch 114/155\n",
      "11/11 [==============================] - 0s 9ms/step - loss: 7.5232 - mae: 1.9415 - val_loss: 9.0676 - val_mae: 1.9208\n",
      "Epoch 115/155\n",
      "11/11 [==============================] - 0s 9ms/step - loss: 7.7804 - mae: 1.9928 - val_loss: 9.5683 - val_mae: 2.0158\n",
      "Epoch 116/155\n",
      "11/11 [==============================] - 0s 9ms/step - loss: 8.1055 - mae: 1.9813 - val_loss: 10.7057 - val_mae: 2.0006\n",
      "Epoch 117/155\n",
      "11/11 [==============================] - 0s 9ms/step - loss: 8.3113 - mae: 2.0398 - val_loss: 10.3822 - val_mae: 2.0702\n",
      "Epoch 118/155\n",
      "11/11 [==============================] - 0s 9ms/step - loss: 7.8070 - mae: 2.0161 - val_loss: 10.6297 - val_mae: 2.1461\n",
      "Epoch 119/155\n",
      "11/11 [==============================] - 0s 9ms/step - loss: 8.9883 - mae: 2.2042 - val_loss: 9.8823 - val_mae: 2.0966\n",
      "Epoch 120/155\n",
      "11/11 [==============================] - 0s 9ms/step - loss: 7.8104 - mae: 2.0339 - val_loss: 10.3577 - val_mae: 2.1153\n",
      "Epoch 121/155\n",
      "11/11 [==============================] - 0s 9ms/step - loss: 7.5941 - mae: 1.9739 - val_loss: 9.7741 - val_mae: 2.0336\n",
      "Epoch 122/155\n",
      "11/11 [==============================] - 0s 9ms/step - loss: 7.3780 - mae: 1.9628 - val_loss: 9.6351 - val_mae: 2.0746\n",
      "Epoch 123/155\n"
     ]
    },
    {
     "name": "stdout",
     "output_type": "stream",
     "text": [
      "11/11 [==============================] - 0s 9ms/step - loss: 7.9675 - mae: 2.0709 - val_loss: 9.4970 - val_mae: 2.0963\n",
      "Epoch 124/155\n",
      "11/11 [==============================] - 0s 9ms/step - loss: 7.3790 - mae: 1.9621 - val_loss: 9.7622 - val_mae: 2.0523\n",
      "Epoch 125/155\n",
      "11/11 [==============================] - 0s 9ms/step - loss: 7.3561 - mae: 1.9425 - val_loss: 9.3993 - val_mae: 2.0354\n",
      "Epoch 126/155\n",
      "11/11 [==============================] - 0s 9ms/step - loss: 7.0413 - mae: 1.9202 - val_loss: 9.2587 - val_mae: 2.0422\n",
      "Epoch 127/155\n",
      "11/11 [==============================] - 0s 8ms/step - loss: 7.0459 - mae: 1.9104 - val_loss: 8.9757 - val_mae: 1.9397\n",
      "Epoch 128/155\n",
      "11/11 [==============================] - 0s 9ms/step - loss: 6.8580 - mae: 1.8795 - val_loss: 9.4998 - val_mae: 2.0450\n",
      "Epoch 129/155\n",
      "11/11 [==============================] - 0s 10ms/step - loss: 6.8256 - mae: 1.8885 - val_loss: 9.2804 - val_mae: 1.9870\n",
      "Epoch 130/155\n",
      "11/11 [==============================] - 0s 12ms/step - loss: 7.1648 - mae: 1.9105 - val_loss: 9.8375 - val_mae: 2.0368\n",
      "Epoch 131/155\n",
      "11/11 [==============================] - 0s 12ms/step - loss: 6.7448 - mae: 1.8557 - val_loss: 9.6432 - val_mae: 2.1101\n",
      "Epoch 132/155\n",
      "11/11 [==============================] - 0s 11ms/step - loss: 6.9924 - mae: 1.9456 - val_loss: 9.4890 - val_mae: 2.1043\n",
      "Epoch 133/155\n",
      "11/11 [==============================] - 0s 12ms/step - loss: 6.6399 - mae: 1.8771 - val_loss: 9.0328 - val_mae: 1.9487\n",
      "Epoch 134/155\n",
      "11/11 [==============================] - 0s 12ms/step - loss: 6.9586 - mae: 1.8986 - val_loss: 9.2613 - val_mae: 1.9763\n",
      "Epoch 135/155\n",
      "11/11 [==============================] - 0s 12ms/step - loss: 6.5902 - mae: 1.8570 - val_loss: 9.4949 - val_mae: 2.0454\n",
      "Epoch 136/155\n",
      "11/11 [==============================] - 0s 11ms/step - loss: 6.6270 - mae: 1.8430 - val_loss: 9.2535 - val_mae: 1.9910\n",
      "Epoch 137/155\n",
      "11/11 [==============================] - 0s 10ms/step - loss: 6.7969 - mae: 1.8748 - val_loss: 9.1534 - val_mae: 1.9851\n",
      "Epoch 138/155\n",
      "11/11 [==============================] - 0s 10ms/step - loss: 6.4980 - mae: 1.8649 - val_loss: 9.4702 - val_mae: 2.0773\n",
      "Epoch 139/155\n",
      "11/11 [==============================] - 0s 11ms/step - loss: 6.3923 - mae: 1.8081 - val_loss: 8.8621 - val_mae: 1.9341\n",
      "Epoch 140/155\n",
      "11/11 [==============================] - 0s 12ms/step - loss: 6.5766 - mae: 1.8475 - val_loss: 9.2707 - val_mae: 2.0442\n",
      "Epoch 141/155\n",
      "11/11 [==============================] - 0s 11ms/step - loss: 6.5812 - mae: 1.8560 - val_loss: 9.2606 - val_mae: 1.9650\n",
      "Epoch 142/155\n",
      "11/11 [==============================] - 0s 11ms/step - loss: 6.7321 - mae: 1.8649 - val_loss: 9.2523 - val_mae: 2.0039\n",
      "Epoch 143/155\n",
      "11/11 [==============================] - 0s 12ms/step - loss: 6.3945 - mae: 1.8330 - val_loss: 9.3807 - val_mae: 2.1080\n",
      "Epoch 144/155\n",
      "11/11 [==============================] - 0s 12ms/step - loss: 7.3928 - mae: 1.9907 - val_loss: 8.8408 - val_mae: 2.0248\n",
      "Epoch 145/155\n",
      "11/11 [==============================] - 0s 12ms/step - loss: 6.9813 - mae: 1.9297 - val_loss: 10.3774 - val_mae: 2.2294\n",
      "Epoch 146/155\n",
      "11/11 [==============================] - 0s 12ms/step - loss: 6.5395 - mae: 1.8551 - val_loss: 9.1584 - val_mae: 2.0564\n",
      "Epoch 147/155\n",
      "11/11 [==============================] - 0s 10ms/step - loss: 6.4734 - mae: 1.8392 - val_loss: 9.0040 - val_mae: 1.9909\n",
      "Epoch 148/155\n",
      "11/11 [==============================] - 0s 10ms/step - loss: 6.1750 - mae: 1.7887 - val_loss: 9.3045 - val_mae: 2.0788\n",
      "Epoch 149/155\n",
      "11/11 [==============================] - 0s 9ms/step - loss: 6.2304 - mae: 1.8080 - val_loss: 9.1303 - val_mae: 2.0584\n",
      "Epoch 150/155\n",
      "11/11 [==============================] - 0s 9ms/step - loss: 6.0417 - mae: 1.7562 - val_loss: 9.0195 - val_mae: 1.9893\n",
      "Epoch 151/155\n",
      "11/11 [==============================] - 0s 9ms/step - loss: 6.0522 - mae: 1.7514 - val_loss: 9.1638 - val_mae: 2.0591\n",
      "Epoch 152/155\n",
      "11/11 [==============================] - 0s 10ms/step - loss: 6.0131 - mae: 1.7607 - val_loss: 9.0472 - val_mae: 2.0531\n",
      "Epoch 153/155\n",
      "11/11 [==============================] - 0s 9ms/step - loss: 6.1227 - mae: 1.7611 - val_loss: 8.8355 - val_mae: 1.9535\n",
      "Epoch 154/155\n",
      "11/11 [==============================] - 0s 9ms/step - loss: 6.3215 - mae: 1.8168 - val_loss: 8.9595 - val_mae: 2.0372\n",
      "Epoch 155/155\n",
      "11/11 [==============================] - 0s 9ms/step - loss: 6.0462 - mae: 1.7708 - val_loss: 9.5347 - val_mae: 2.1205\n"
     ]
    }
   ],
   "source": [
    "history=model.fit(x_train_scaled,y_train,validation_split=0.2,epochs=155)"
   ]
  },
  {
   "cell_type": "code",
   "execution_count": 1259,
   "id": "f6eb9214",
   "metadata": {},
   "outputs": [],
   "source": [
    "loss = history.history['loss']\n",
    "val_loss = history.history['val_loss']\n",
    "epochs = range(1,len(loss) + 1)"
   ]
  },
  {
   "cell_type": "code",
   "execution_count": 1260,
   "id": "97d869ce",
   "metadata": {},
   "outputs": [
    {
     "data": {
      "image/png": "[encoded data removed]",
      "text/plain": [
       "<Figure size 432x288 with 1 Axes>"
      ]
     },
     "metadata": {
      "needs_background": "light"
     },
     "output_type": "display_data"
    }
   ],
   "source": [
    "plt.plot(epochs,loss,'y',label='Training loss')\n",
    "plt.plot(epochs,val_loss,'r',label='Validation loss')\n",
    "plt.title('Training and validation loss')\n",
    "plt.xlabel('Epochs')\n",
    "plt.ylabel('Loss')\n",
    "plt.legend()\n",
    "plt.show()"
   ]
  },
  {
   "cell_type": "code",
   "execution_count": 1261,
   "id": "a79b6aaa",
   "metadata": {},
   "outputs": [],
   "source": [
    "acc = history.history['mae']\n",
    "val_acc = history.history['val_mae']"
   ]
  },
  {
   "cell_type": "code",
   "execution_count": 1262,
   "id": "62540797",
   "metadata": {},
   "outputs": [
    {
     "data": {
      "image/png": "[encoded data removed]",
      "text/plain": [
       "<Figure size 432x288 with 1 Axes>"
      ]
     },
     "metadata": {
      "needs_background": "light"
     },
     "output_type": "display_data"
    }
   ],
   "source": [
    "plt.plot(epochs,acc,'y',label='Training MAE')\n",
    "plt.plot(epochs,val_acc,'r',label='Validation MAE')\n",
    "plt.title('Training and validation MAE')\n",
    "plt.xlabel('Epochs')\n",
    "plt.ylabel('Accuracy')\n",
    "plt.legend()\n",
    "plt.show()"
   ]
  },
  {
   "cell_type": "code",
   "execution_count": 1268,
   "id": "96823727",
   "metadata": {},
   "outputs": [
    {
     "name": "stdout",
     "output_type": "stream",
     "text": [
      "1/1 [==============================] - 0s 43ms/step\n",
      "Predicted values are: \n",
      "[[43.197243]\n",
      " [17.524687]\n",
      " [21.16437 ]\n",
      " [16.176231]\n",
      " [17.62419 ]]\n",
      "   -------------------------------------------------------   \n",
      "real values are: \n",
      "282    46.0\n",
      "48     14.4\n",
      "12     21.7\n",
      "31     14.5\n",
      "315    16.2\n",
      "Name: PRICE, dtype: float64\n"
     ]
    }
   ],
   "source": [
    "predictions = model.predict(x_train_scaled[:5])\n",
    "print(\"Predicted values are: \")\n",
    "print(predictions)\n",
    "print(\"   -------------------------------------------------------   \")\n",
    "print(\"real values are: \")\n",
    "print(y_train[:5])"
   ]
  },
  {
   "cell_type": "code",
   "execution_count": 1269,
   "id": "640ea4e4",
   "metadata": {},
   "outputs": [],
   "source": [
    "np.random.seed(0)"
   ]
  },
  {
   "cell_type": "code",
   "execution_count": 1270,
   "id": "b137b0c5",
   "metadata": {},
   "outputs": [
    {
     "name": "stdout",
     "output_type": "stream",
     "text": [
      "4/4 [==============================] - 0s 4ms/step - loss: 7.6204 - mae: 2.1163\n",
      "Mean squared error from neural net:  7.620363712310791\n",
      "Mean absolute error from neural net:  2.11627459526062\n"
     ]
    }
   ],
   "source": [
    "mse_neural, mae_neural = model.evaluate(x_test_scaled,y_test)\n",
    "print('Mean squared error from neural net: ',mse_neural)\n",
    "print('Mean absolute error from neural net: ',mae_neural)"
   ]
  },
  {
   "cell_type": "code",
   "execution_count": 1271,
   "id": "c0be7437",
   "metadata": {},
   "outputs": [
    {
     "name": "stdout",
     "output_type": "stream",
     "text": [
      "Mean squared error from random forest:  7.2817691448801725\n",
      "Mean absolute error from random forest:  2.012990196078431\n"
     ]
    }
   ],
   "source": [
    "model=RandomForestRegressor(n_estimators=60,random_state=42)\n",
    "model.fit(x_train_scaled,y_train)\n",
    "y_pred_RF=model.predict(x_test_scaled)\n",
    "mse_RF = mean_squared_error(y_test,y_pred_RF)\n",
    "mae_RF=mean_absolute_error(y_test,y_pred_RF)\n",
    "print('Mean squared error from random forest: ',mse_RF)\n",
    "print('Mean absolute error from random forest: ',mae_RF)"
   ]
  },
  {
   "cell_type": "code",
   "execution_count": 1272,
   "id": "a621ed4f",
   "metadata": {},
   "outputs": [
    {
     "name": "stdout",
     "output_type": "stream",
     "text": [
      "Mean squared error from linear regression:  13.510777780095683\n",
      "Mean absolute error from linear regression:  2.8818195347234985\n"
     ]
    }
   ],
   "source": [
    "lr_model=linear_model.LinearRegression()\n",
    "lr_model.fit(x_train_scaled,y_train)\n",
    "y_pred_lr=lr_model.predict(x_test_scaled)\n",
    "mse_lr = mean_squared_error(y_test,y_pred_lr)\n",
    "mae_lr=mean_absolute_error(y_test,y_pred_lr)\n",
    "print('Mean squared error from linear regression: ',mse_lr)\n",
    "print('Mean absolute error from linear regression: ',mae_lr)"
   ]
  },
  {
   "cell_type": "code",
   "execution_count": 1273,
   "id": "f6e19274",
   "metadata": {},
   "outputs": [
    {
     "data": {
      "text/plain": [
       "LSTAT      0.453635\n",
       "RM         0.348420\n",
       "DIS        0.061733\n",
       "CRIM       0.044400\n",
       "NOX        0.023331\n",
       "PTRATIO    0.018047\n",
       "AGE        0.013657\n",
       "TAX        0.013455\n",
       "B          0.010837\n",
       "INDUS      0.004969\n",
       "RAD        0.004520\n",
       "CHAS       0.001536\n",
       "ZN         0.001459\n",
       "dtype: float64"
      ]
     },
     "execution_count": 1273,
     "metadata": {},
     "output_type": "execute_result"
    }
   ],
   "source": [
    "feature_list = list(x.columns)\n",
    "feature_imp=pd.Series(model.feature_importances_,index=feature_list).sort_values(ascending=False)\n",
    "feature_imp"
   ]
  }
 ],
 "metadata": {
  "kernelspec": {
   "display_name": "Python 3 (ipykernel)",
   "language": "python",
   "name": "python3"
  },
  "language_info": {
   "codemirror_mode": {
    "name": "ipython",
    "version": 3
   },
   "file_extension": ".py",
   "mimetype": "text/x-python",
   "name": "python",
   "nbconvert_exporter": "python",
   "pygments_lexer": "ipython3",
   "version": "3.9.12"
  }
 },
 "nbformat": 4,
 "nbformat_minor": 5
}
