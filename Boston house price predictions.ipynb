{
 "cells": [
  {
   "cell_type": "code",
   "execution_count": 1217,
   "id": "143b7460",
   "metadata": {
    "scrolled": false
   },
   "outputs": [],
   "source": [
    "import warnings\n",
    "import numpy as np\n",
    "import pandas as pd\n",
    "import tensorflow as tf\n",
    "from sklearn import linear_model\n",
    "from matplotlib import pyplot as plt\n",
    "from tensorflow.keras.layers import Dense\n",
    "from sklearn.tree import DecisionTreeRegressor\n",
    "from tensorflow.keras.models import Sequential\n",
    "from sklearn.preprocessing import StandardScaler\n",
    "from sklearn.ensemble import RandomForestRegressor\n",
    "from sklearn.model_selection import train_test_split\n",
    "from sklearn.metrics import mean_squared_error, mean_absolute_error\n",
    "warnings.filterwarnings(\"ignore\")"
   ]
  },
  {
   "cell_type": "code",
   "execution_count": 1218,
   "id": "6628146e",
   "metadata": {},
   "outputs": [],
   "source": [
    "df=pd.read_csv(r\"\\Users\\Family\\Downloads\\archive (2)\\hou_all.csv\",header=None)"
   ]
  },
  {
   "cell_type": "code",
   "execution_count": 1219,
   "id": "cda9bda7",
   "metadata": {},
   "outputs": [],
   "source": [
    "feature_names = ['CRIM','ZN','INDUS','CHAS','NOX','RM','AGE',\n",
    "                'DIS','RAD','TAX','PTRATIO','B','LSTAT','PRICE','v']\n",
    "df.columns = feature_names  "
   ]
  },
  {
   "cell_type": "code",
   "execution_count": 1220,
   "id": "e5d384aa",
   "metadata": {
    "scrolled": true
   },
   "outputs": [
    {
     "data": {
      "text/html": [
       "<div>\n",
       "<style scoped>\n",
       "    .dataframe tbody tr th:only-of-type {\n",
       "        vertical-align: middle;\n",
       "    }\n",
       "\n",
       "    .dataframe tbody tr th {\n",
       "        vertical-align: top;\n",
       "    }\n",
       "\n",
       "    .dataframe thead th {\n",
       "        text-align: right;\n",
       "    }\n",
       "</style>\n",
       "<table border=\"1\" class=\"dataframe\">\n",
       "  <thead>\n",
       "    <tr style=\"text-align: right;\">\n",
       "      <th></th>\n",
       "      <th>CRIM</th>\n",
       "      <th>ZN</th>\n",
       "      <th>INDUS</th>\n",
       "      <th>CHAS</th>\n",
       "      <th>NOX</th>\n",
       "      <th>RM</th>\n",
       "      <th>AGE</th>\n",
       "      <th>DIS</th>\n",
       "      <th>RAD</th>\n",
       "      <th>TAX</th>\n",
       "      <th>PTRATIO</th>\n",
       "      <th>B</th>\n",
       "      <th>LSTAT</th>\n",
       "      <th>PRICE</th>\n",
       "      <th>v</th>\n",
       "    </tr>\n",
       "  </thead>\n",
       "  <tbody>\n",
       "    <tr>\n",
       "      <th>0</th>\n",
       "      <td>0.00632</td>\n",
       "      <td>18.0</td>\n",
       "      <td>2.31</td>\n",
       "      <td>0</td>\n",
       "      <td>0.538</td>\n",
       "      <td>6.575</td>\n",
       "      <td>65.2</td>\n",
       "      <td>4.0900</td>\n",
       "      <td>1</td>\n",
       "      <td>296</td>\n",
       "      <td>15.3</td>\n",
       "      <td>396.90</td>\n",
       "      <td>4.98</td>\n",
       "      <td>24.0</td>\n",
       "      <td>1</td>\n",
       "    </tr>\n",
       "    <tr>\n",
       "      <th>1</th>\n",
       "      <td>0.02731</td>\n",
       "      <td>0.0</td>\n",
       "      <td>7.07</td>\n",
       "      <td>0</td>\n",
       "      <td>0.469</td>\n",
       "      <td>6.421</td>\n",
       "      <td>78.9</td>\n",
       "      <td>4.9671</td>\n",
       "      <td>2</td>\n",
       "      <td>242</td>\n",
       "      <td>17.8</td>\n",
       "      <td>396.90</td>\n",
       "      <td>9.14</td>\n",
       "      <td>21.6</td>\n",
       "      <td>1</td>\n",
       "    </tr>\n",
       "    <tr>\n",
       "      <th>2</th>\n",
       "      <td>0.02729</td>\n",
       "      <td>0.0</td>\n",
       "      <td>7.07</td>\n",
       "      <td>0</td>\n",
       "      <td>0.469</td>\n",
       "      <td>7.185</td>\n",
       "      <td>61.1</td>\n",
       "      <td>4.9671</td>\n",
       "      <td>2</td>\n",
       "      <td>242</td>\n",
       "      <td>17.8</td>\n",
       "      <td>392.83</td>\n",
       "      <td>4.03</td>\n",
       "      <td>34.7</td>\n",
       "      <td>1</td>\n",
       "    </tr>\n",
       "    <tr>\n",
       "      <th>3</th>\n",
       "      <td>0.03237</td>\n",
       "      <td>0.0</td>\n",
       "      <td>2.18</td>\n",
       "      <td>0</td>\n",
       "      <td>0.458</td>\n",
       "      <td>6.998</td>\n",
       "      <td>45.8</td>\n",
       "      <td>6.0622</td>\n",
       "      <td>3</td>\n",
       "      <td>222</td>\n",
       "      <td>18.7</td>\n",
       "      <td>394.63</td>\n",
       "      <td>2.94</td>\n",
       "      <td>33.4</td>\n",
       "      <td>1</td>\n",
       "    </tr>\n",
       "    <tr>\n",
       "      <th>4</th>\n",
       "      <td>0.06905</td>\n",
       "      <td>0.0</td>\n",
       "      <td>2.18</td>\n",
       "      <td>0</td>\n",
       "      <td>0.458</td>\n",
       "      <td>7.147</td>\n",
       "      <td>54.2</td>\n",
       "      <td>6.0622</td>\n",
       "      <td>3</td>\n",
       "      <td>222</td>\n",
       "      <td>18.7</td>\n",
       "      <td>396.90</td>\n",
       "      <td>5.33</td>\n",
       "      <td>36.2</td>\n",
       "      <td>1</td>\n",
       "    </tr>\n",
       "  </tbody>\n",
       "</table>\n",
       "</div>"
      ],
      "text/plain": [
       "      CRIM    ZN  INDUS  CHAS    NOX     RM   AGE     DIS  RAD  TAX  PTRATIO       B  LSTAT  PRICE  v\n",
       "0  0.00632  18.0   2.31     0  0.538  6.575  65.2  4.0900    1  296     15.3  396.90   4.98   24.0  1\n",
       "1  0.02731   0.0   7.07     0  0.469  6.421  78.9  4.9671    2  242     17.8  396.90   9.14   21.6  1\n",
       "2  0.02729   0.0   7.07     0  0.469  7.185  61.1  4.9671    2  242     17.8  392.83   4.03   34.7  1\n",
       "3  0.03237   0.0   2.18     0  0.458  6.998  45.8  6.0622    3  222     18.7  394.63   2.94   33.4  1\n",
       "4  0.06905   0.0   2.18     0  0.458  7.147  54.2  6.0622    3  222     18.7  396.90   5.33   36.2  1"
      ]
     },
     "execution_count": 1220,
     "metadata": {},
     "output_type": "execute_result"
    }
   ],
   "source": [
    "df.head()"
   ]
  },
  {
   "cell_type": "markdown",
   "id": "1586633e",
   "metadata": {},
   "source": [
    "CRIM: per capita crime rate by town\n",
    "\n",
    "ZN: proportion of residential land zoned for lots over 25,000 sq.ft.\n",
    "\n",
    "INDUS: proportion of non_retial business acres per town\n",
    "\n",
    "CHAS: Charles River dummy variable (equal 1 if track nbounds river and 0 otherwise)\n",
    "\n",
    "NOX: nitric oxides concetration (parts per 10 million)\n",
    "\n",
    "RM: average number of rooms per dwelling \n",
    "\n",
    "AGE: proportionrtion of owner-occupied units built prior to 1940\n",
    "\n",
    "DIS: weighted distances to five Boston employment centers\n",
    "\n",
    "RAD: index of accessibility to radial highways\n",
    "\n",
    "TAX: full-value property-tax rate per $10,000\n",
    "\n",
    "PTRATIO: pupil-teacher ratio by town\n",
    "\n",
    "B: 1000(BK - 0.63)^2 where BK is the proportion of blacks by town\n",
    "\n",
    "LSTAT: % lower status of the population\n",
    "\n",
    "PRICE (MEDV): Median value of owner-occupied homes in $1000's\n",
    "    "
   ]
  },
  {
   "cell_type": "code",
   "execution_count": 1221,
   "id": "03e663bc",
   "metadata": {
    "scrolled": true
   },
   "outputs": [
    {
     "name": "stdout",
     "output_type": "stream",
     "text": [
      "<class 'pandas.core.frame.DataFrame'>\n",
      "RangeIndex: 506 entries, 0 to 505\n",
      "Data columns (total 15 columns):\n",
      " #   Column   Non-Null Count  Dtype  \n",
      "---  ------   --------------  -----  \n",
      " 0   CRIM     506 non-null    float64\n",
      " 1   ZN       506 non-null    float64\n",
      " 2   INDUS    506 non-null    float64\n",
      " 3   CHAS     506 non-null    int64  \n",
      " 4   NOX      506 non-null    float64\n",
      " 5   RM       506 non-null    float64\n",
      " 6   AGE      506 non-null    float64\n",
      " 7   DIS      506 non-null    float64\n",
      " 8   RAD      506 non-null    int64  \n",
      " 9   TAX      506 non-null    int64  \n",
      " 10  PTRATIO  506 non-null    float64\n",
      " 11  B        506 non-null    float64\n",
      " 12  LSTAT    506 non-null    float64\n",
      " 13  PRICE    506 non-null    float64\n",
      " 14  v        506 non-null    int64  \n",
      "dtypes: float64(11), int64(4)\n",
      "memory usage: 59.4 KB\n"
     ]
    }
   ],
   "source": [
    "df.info()"
   ]
  },
  {
   "cell_type": "code",
   "execution_count": 1222,
   "id": "4ac581df",
   "metadata": {},
   "outputs": [],
   "source": [
    "x=df.drop(['PRICE','v'],axis=1)\n",
    "y=df['PRICE']"
   ]
  },
  {
   "cell_type": "code",
   "execution_count": 1223,
   "id": "d007336c",
   "metadata": {},
   "outputs": [],
   "source": [
    "x_train,x_test,y_train,y_test = train_test_split(x,y,test_size=0.2,random_state=46)"
   ]
  },
  {
   "cell_type": "code",
   "execution_count": 1224,
   "id": "e0c08011",
   "metadata": {},
   "outputs": [],
   "source": [
    "scaler = StandardScaler()\n",
    "scaler.fit(x_train)\n",
    "x_train_scaled=scaler.transform(x_train)\n",
    "x_test_scaled=scaler.transform(x_test)"
   ]
  },
  {
   "cell_type": "code",
   "execution_count": 1225,
   "id": "1f523216",
   "metadata": {},
   "outputs": [],
   "source": [
    "tf.random.set_seed(0)\n",
    "model = Sequential()\n",
    "model.add(Dense(128,input_dim=13,activation='relu'))\n",
    "model.add(Dense(64,activation='relu'))\n",
    "model.add(Dense(1,activation='linear'))"
   ]
  },
  {
   "cell_type": "code",
   "execution_count": 1226,
   "id": "1c7ad405",
   "metadata": {},
   "outputs": [],
   "source": [
    "model.compile(loss='mean_squared_error',optimizer='adam',metrics=['mae'])"
   ]
  },
  {
   "cell_type": "code",
   "execution_count": 1227,
   "id": "e2f77ea8",
   "metadata": {},
   "outputs": [
    {
     "name": "stdout",
     "output_type": "stream",
     "text": [
      "Model: \"sequential_52\"\n",
      "_________________________________________________________________\n",
      " Layer (type)                Output Shape              Param #   \n",
      "=================================================================\n",
      " dense_156 (Dense)           (None, 128)               1792      \n",
      "                                                                 \n",
      " dense_157 (Dense)           (None, 64)                8256      \n",
      "                                                                 \n",
      " dense_158 (Dense)           (None, 1)                 65        \n",
      "                                                                 \n",
      "=================================================================\n",
      "Total params: 10113 (39.50 KB)\n",
      "Trainable params: 10113 (39.50 KB)\n",
      "Non-trainable params: 0 (0.00 Byte)\n",
      "_________________________________________________________________\n"
     ]
    }
   ],
   "source": [
    "model.summary()"
   ]
  },
  {
   "cell_type": "code",
   "execution_count": 1228,
   "id": "a0cf3c0c",
   "metadata": {},
   "outputs": [
    {
     "name": "stdout",
     "output_type": "stream",
     "text": [
      "Epoch 1/155\n",
      "11/11 [==============================] - 2s 41ms/step - loss: 589.0314 - mae: 22.3028 - val_loss: 468.4368 - val_mae: 19.7938\n",
      "Epoch 2/155\n",
      "11/11 [==============================] - 0s 9ms/step - loss: 521.4147 - mae: 20.7204 - val_loss: 397.4575 - val_mae: 17.8932\n",
      "Epoch 3/155\n",
      "11/11 [==============================] - 0s 10ms/step - loss: 437.2808 - mae: 18.6338 - val_loss: 308.7029 - val_mae: 15.3636\n",
      "Epoch 4/155\n",
      "11/11 [==============================] - 0s 9ms/step - loss: 331.1709 - mae: 15.7860 - val_loss: 203.2843 - val_mae: 12.0354\n",
      "Epoch 5/155\n",
      "11/11 [==============================] - 0s 9ms/step - loss: 212.9288 - mae: 12.1237 - val_loss: 106.7716 - val_mae: 8.3339\n",
      "Epoch 6/155\n",
      "11/11 [==============================] - 0s 9ms/step - loss: 115.9495 - mae: 8.3227 - val_loss: 53.3873 - val_mae: 5.5045\n",
      "Epoch 7/155\n",
      "11/11 [==============================] - 0s 9ms/step - loss: 68.6663 - mae: 6.2214 - val_loss: 38.8991 - val_mae: 4.7708\n",
      "Epoch 8/155\n",
      "11/11 [==============================] - 0s 9ms/step - loss: 51.1959 - mae: 5.3843 - val_loss: 30.5675 - val_mae: 4.1577\n",
      "Epoch 9/155\n",
      "11/11 [==============================] - 0s 9ms/step - loss: 39.6650 - mae: 4.7031 - val_loss: 24.6090 - val_mae: 3.6444\n",
      "Epoch 10/155\n",
      "11/11 [==============================] - 0s 9ms/step - loss: 31.7124 - mae: 4.1991 - val_loss: 22.6518 - val_mae: 3.4320\n",
      "Epoch 11/155\n",
      "11/11 [==============================] - 0s 9ms/step - loss: 28.1592 - mae: 3.9104 - val_loss: 21.2973 - val_mae: 3.2553\n",
      "Epoch 12/155\n",
      "11/11 [==============================] - 0s 9ms/step - loss: 25.8585 - mae: 3.6864 - val_loss: 20.2413 - val_mae: 3.0499\n",
      "Epoch 13/155\n",
      "11/11 [==============================] - 0s 10ms/step - loss: 24.4585 - mae: 3.5597 - val_loss: 19.5697 - val_mae: 3.0357\n",
      "Epoch 14/155\n",
      "11/11 [==============================] - 0s 9ms/step - loss: 23.1706 - mae: 3.4760 - val_loss: 19.4469 - val_mae: 3.0560\n",
      "Epoch 15/155\n",
      "11/11 [==============================] - 0s 9ms/step - loss: 22.2059 - mae: 3.3576 - val_loss: 19.8684 - val_mae: 3.0919\n",
      "Epoch 16/155\n",
      "11/11 [==============================] - 0s 9ms/step - loss: 21.5759 - mae: 3.2929 - val_loss: 19.2242 - val_mae: 3.0453\n",
      "Epoch 17/155\n",
      "11/11 [==============================] - 0s 9ms/step - loss: 20.7205 - mae: 3.2387 - val_loss: 18.3598 - val_mae: 2.9701\n",
      "Epoch 18/155\n",
      "11/11 [==============================] - 0s 9ms/step - loss: 19.9736 - mae: 3.2040 - val_loss: 17.8046 - val_mae: 2.9395\n",
      "Epoch 19/155\n",
      "11/11 [==============================] - 0s 9ms/step - loss: 19.3902 - mae: 3.1546 - val_loss: 17.1982 - val_mae: 2.8154\n",
      "Epoch 20/155\n",
      "11/11 [==============================] - 0s 9ms/step - loss: 18.7985 - mae: 3.0643 - val_loss: 17.4099 - val_mae: 2.8084\n",
      "Epoch 21/155\n",
      "11/11 [==============================] - 0s 9ms/step - loss: 18.3705 - mae: 2.9926 - val_loss: 17.3186 - val_mae: 2.7932\n",
      "Epoch 22/155\n",
      "11/11 [==============================] - 0s 9ms/step - loss: 17.8122 - mae: 2.9359 - val_loss: 16.7288 - val_mae: 2.7049\n",
      "Epoch 23/155\n",
      "11/11 [==============================] - 0s 9ms/step - loss: 17.4664 - mae: 2.9387 - val_loss: 16.1670 - val_mae: 2.6247\n",
      "Epoch 24/155\n",
      "11/11 [==============================] - 0s 9ms/step - loss: 17.1212 - mae: 2.9329 - val_loss: 16.1057 - val_mae: 2.6413\n",
      "Epoch 25/155\n",
      "11/11 [==============================] - 0s 9ms/step - loss: 16.5182 - mae: 2.8489 - val_loss: 16.0902 - val_mae: 2.5815\n",
      "Epoch 26/155\n",
      "11/11 [==============================] - 0s 9ms/step - loss: 16.1520 - mae: 2.7958 - val_loss: 15.5878 - val_mae: 2.4819\n",
      "Epoch 27/155\n",
      "11/11 [==============================] - 0s 9ms/step - loss: 15.8583 - mae: 2.7723 - val_loss: 15.3438 - val_mae: 2.4569\n",
      "Epoch 28/155\n",
      "11/11 [==============================] - 0s 9ms/step - loss: 15.6950 - mae: 2.7684 - val_loss: 15.0214 - val_mae: 2.4823\n",
      "Epoch 29/155\n",
      "11/11 [==============================] - 0s 9ms/step - loss: 15.1552 - mae: 2.7066 - val_loss: 14.8090 - val_mae: 2.3962\n",
      "Epoch 30/155\n",
      "11/11 [==============================] - 0s 10ms/step - loss: 15.0015 - mae: 2.6922 - val_loss: 14.4985 - val_mae: 2.3472\n",
      "Epoch 31/155\n",
      "11/11 [==============================] - 0s 9ms/step - loss: 14.6411 - mae: 2.6726 - val_loss: 14.2476 - val_mae: 2.3361\n",
      "Epoch 32/155\n",
      "11/11 [==============================] - 0s 9ms/step - loss: 14.4723 - mae: 2.6498 - val_loss: 14.0119 - val_mae: 2.3026\n",
      "Epoch 33/155\n",
      "11/11 [==============================] - 0s 9ms/step - loss: 14.2647 - mae: 2.6402 - val_loss: 13.6660 - val_mae: 2.2422\n",
      "Epoch 34/155\n",
      "11/11 [==============================] - 0s 9ms/step - loss: 14.0614 - mae: 2.6249 - val_loss: 13.8534 - val_mae: 2.2268\n",
      "Epoch 35/155\n",
      "11/11 [==============================] - 0s 9ms/step - loss: 14.0534 - mae: 2.6327 - val_loss: 14.2781 - val_mae: 2.3824\n",
      "Epoch 36/155\n",
      "11/11 [==============================] - 0s 9ms/step - loss: 13.6907 - mae: 2.5817 - val_loss: 14.0322 - val_mae: 2.2762\n",
      "Epoch 37/155\n",
      "11/11 [==============================] - 0s 9ms/step - loss: 13.4693 - mae: 2.5468 - val_loss: 14.2221 - val_mae: 2.2335\n",
      "Epoch 38/155\n",
      "11/11 [==============================] - 0s 9ms/step - loss: 13.2693 - mae: 2.5311 - val_loss: 13.4916 - val_mae: 2.2219\n",
      "Epoch 39/155\n",
      "11/11 [==============================] - 0s 9ms/step - loss: 13.0638 - mae: 2.5378 - val_loss: 13.1439 - val_mae: 2.1789\n",
      "Epoch 40/155\n",
      "11/11 [==============================] - 0s 9ms/step - loss: 12.8678 - mae: 2.5167 - val_loss: 12.7793 - val_mae: 2.1405\n",
      "Epoch 41/155\n",
      "11/11 [==============================] - 0s 9ms/step - loss: 12.8207 - mae: 2.4964 - val_loss: 13.0514 - val_mae: 2.2413\n",
      "Epoch 42/155\n",
      "11/11 [==============================] - 0s 9ms/step - loss: 12.6493 - mae: 2.4710 - val_loss: 12.7289 - val_mae: 2.1284\n",
      "Epoch 43/155\n",
      "11/11 [==============================] - 0s 9ms/step - loss: 12.5277 - mae: 2.4433 - val_loss: 12.6441 - val_mae: 2.0950\n",
      "Epoch 44/155\n",
      "11/11 [==============================] - 0s 9ms/step - loss: 12.4416 - mae: 2.5105 - val_loss: 11.5038 - val_mae: 2.2476\n",
      "Epoch 45/155\n",
      "11/11 [==============================] - 0s 9ms/step - loss: 12.5638 - mae: 2.5039 - val_loss: 11.0763 - val_mae: 2.1102\n",
      "Epoch 46/155\n",
      "11/11 [==============================] - 0s 9ms/step - loss: 12.2176 - mae: 2.4586 - val_loss: 10.7761 - val_mae: 2.0630\n",
      "Epoch 47/155\n",
      "11/11 [==============================] - 0s 9ms/step - loss: 12.0816 - mae: 2.4332 - val_loss: 10.9428 - val_mae: 2.0458\n",
      "Epoch 48/155\n",
      "11/11 [==============================] - 0s 9ms/step - loss: 11.8005 - mae: 2.4024 - val_loss: 11.0059 - val_mae: 2.0489\n",
      "Epoch 49/155\n",
      "11/11 [==============================] - 0s 9ms/step - loss: 11.7536 - mae: 2.4058 - val_loss: 10.8930 - val_mae: 1.9916\n",
      "Epoch 50/155\n",
      "11/11 [==============================] - 0s 9ms/step - loss: 11.5226 - mae: 2.3774 - val_loss: 10.7478 - val_mae: 2.0583\n",
      "Epoch 51/155\n",
      "11/11 [==============================] - 0s 9ms/step - loss: 11.4522 - mae: 2.3671 - val_loss: 10.9248 - val_mae: 1.9977\n",
      "Epoch 52/155\n",
      "11/11 [==============================] - 0s 9ms/step - loss: 11.3850 - mae: 2.3628 - val_loss: 10.8870 - val_mae: 2.0362\n",
      "Epoch 53/155\n",
      "11/11 [==============================] - 0s 9ms/step - loss: 11.5293 - mae: 2.3840 - val_loss: 11.4082 - val_mae: 2.0880\n",
      "Epoch 54/155\n",
      "11/11 [==============================] - 0s 9ms/step - loss: 11.4641 - mae: 2.3846 - val_loss: 10.9777 - val_mae: 2.0507\n",
      "Epoch 55/155\n",
      "11/11 [==============================] - 0s 9ms/step - loss: 11.1470 - mae: 2.3367 - val_loss: 11.0663 - val_mae: 2.0001\n",
      "Epoch 56/155\n",
      "11/11 [==============================] - 0s 9ms/step - loss: 11.0135 - mae: 2.3304 - val_loss: 10.7018 - val_mae: 1.9769\n",
      "Epoch 57/155\n",
      "11/11 [==============================] - 0s 9ms/step - loss: 10.8178 - mae: 2.3144 - val_loss: 10.4503 - val_mae: 1.9857\n",
      "Epoch 58/155\n",
      "11/11 [==============================] - 0s 9ms/step - loss: 10.7155 - mae: 2.3054 - val_loss: 10.4397 - val_mae: 1.9674\n",
      "Epoch 59/155\n",
      "11/11 [==============================] - 0s 9ms/step - loss: 10.6510 - mae: 2.2803 - val_loss: 10.6605 - val_mae: 1.9747\n",
      "Epoch 60/155\n",
      "11/11 [==============================] - 0s 9ms/step - loss: 10.5705 - mae: 2.2948 - val_loss: 10.3374 - val_mae: 1.9799\n",
      "Epoch 61/155\n",
      "11/11 [==============================] - 0s 9ms/step - loss: 10.4808 - mae: 2.2903 - val_loss: 10.4579 - val_mae: 1.9653\n",
      "Epoch 62/155\n"
     ]
    },
    {
     "name": "stdout",
     "output_type": "stream",
     "text": [
      "11/11 [==============================] - 0s 9ms/step - loss: 10.4502 - mae: 2.2854 - val_loss: 10.6713 - val_mae: 1.9683\n",
      "Epoch 63/155\n",
      "11/11 [==============================] - 0s 9ms/step - loss: 10.3502 - mae: 2.2696 - val_loss: 10.5758 - val_mae: 1.9588\n",
      "Epoch 64/155\n",
      "11/11 [==============================] - 0s 9ms/step - loss: 10.3728 - mae: 2.2799 - val_loss: 10.4424 - val_mae: 1.9579\n",
      "Epoch 65/155\n",
      "11/11 [==============================] - 0s 10ms/step - loss: 10.2070 - mae: 2.2638 - val_loss: 10.5381 - val_mae: 1.9641\n",
      "Epoch 66/155\n",
      "11/11 [==============================] - 0s 12ms/step - loss: 10.1756 - mae: 2.2576 - val_loss: 10.1428 - val_mae: 1.9549\n",
      "Epoch 67/155\n",
      "11/11 [==============================] - 0s 11ms/step - loss: 10.0547 - mae: 2.2457 - val_loss: 10.2529 - val_mae: 1.9381\n",
      "Epoch 68/155\n",
      "11/11 [==============================] - 0s 11ms/step - loss: 10.0326 - mae: 2.2472 - val_loss: 10.1587 - val_mae: 1.9277\n",
      "Epoch 69/155\n",
      "11/11 [==============================] - 0s 11ms/step - loss: 10.3982 - mae: 2.3281 - val_loss: 9.9977 - val_mae: 2.0034\n",
      "Epoch 70/155\n",
      "11/11 [==============================] - 0s 11ms/step - loss: 10.2494 - mae: 2.2820 - val_loss: 10.4175 - val_mae: 1.9392\n",
      "Epoch 71/155\n",
      "11/11 [==============================] - 0s 12ms/step - loss: 9.7626 - mae: 2.2296 - val_loss: 10.1424 - val_mae: 1.9403\n",
      "Epoch 72/155\n",
      "11/11 [==============================] - 0s 11ms/step - loss: 9.7685 - mae: 2.2203 - val_loss: 10.5836 - val_mae: 1.9667\n",
      "Epoch 73/155\n",
      "11/11 [==============================] - 0s 13ms/step - loss: 9.6902 - mae: 2.2128 - val_loss: 10.1740 - val_mae: 1.9223\n",
      "Epoch 74/155\n",
      "11/11 [==============================] - 0s 11ms/step - loss: 9.8497 - mae: 2.2363 - val_loss: 9.8493 - val_mae: 1.9442\n",
      "Epoch 75/155\n",
      "11/11 [==============================] - 0s 11ms/step - loss: 9.6226 - mae: 2.1891 - val_loss: 10.8671 - val_mae: 2.0088\n",
      "Epoch 76/155\n",
      "11/11 [==============================] - 0s 11ms/step - loss: 9.3818 - mae: 2.1932 - val_loss: 10.0151 - val_mae: 1.9907\n",
      "Epoch 77/155\n",
      "11/11 [==============================] - 0s 9ms/step - loss: 9.3317 - mae: 2.1973 - val_loss: 10.1522 - val_mae: 1.9518\n",
      "Epoch 78/155\n",
      "11/11 [==============================] - 0s 9ms/step - loss: 9.1032 - mae: 2.1235 - val_loss: 10.5754 - val_mae: 1.9370\n",
      "Epoch 79/155\n",
      "11/11 [==============================] - 0s 9ms/step - loss: 9.2535 - mae: 2.1264 - val_loss: 10.0844 - val_mae: 1.9020\n",
      "Epoch 80/155\n",
      "11/11 [==============================] - 0s 14ms/step - loss: 9.0287 - mae: 2.1288 - val_loss: 10.3987 - val_mae: 1.9530\n",
      "Epoch 81/155\n",
      "11/11 [==============================] - 0s 10ms/step - loss: 9.1326 - mae: 2.1518 - val_loss: 10.1424 - val_mae: 2.0239\n",
      "Epoch 82/155\n",
      "11/11 [==============================] - 0s 10ms/step - loss: 8.9881 - mae: 2.1288 - val_loss: 10.3694 - val_mae: 1.9648\n",
      "Epoch 83/155\n",
      "11/11 [==============================] - 0s 10ms/step - loss: 8.8745 - mae: 2.1276 - val_loss: 10.0022 - val_mae: 1.9829\n",
      "Epoch 84/155\n",
      "11/11 [==============================] - 0s 10ms/step - loss: 8.8128 - mae: 2.1268 - val_loss: 9.4291 - val_mae: 1.9330\n",
      "Epoch 85/155\n",
      "11/11 [==============================] - 0s 10ms/step - loss: 8.6718 - mae: 2.0795 - val_loss: 9.8992 - val_mae: 1.9183\n",
      "Epoch 86/155\n",
      "11/11 [==============================] - 0s 10ms/step - loss: 8.9033 - mae: 2.1234 - val_loss: 9.6621 - val_mae: 1.9493\n",
      "Epoch 87/155\n",
      "11/11 [==============================] - 0s 9ms/step - loss: 8.5700 - mae: 2.0709 - val_loss: 9.3372 - val_mae: 1.9100\n",
      "Epoch 88/155\n",
      "11/11 [==============================] - 0s 9ms/step - loss: 8.6605 - mae: 2.1046 - val_loss: 9.8437 - val_mae: 1.9805\n",
      "Epoch 89/155\n",
      "11/11 [==============================] - 0s 9ms/step - loss: 8.8760 - mae: 2.1472 - val_loss: 9.6428 - val_mae: 1.9329\n",
      "Epoch 90/155\n",
      "11/11 [==============================] - 0s 9ms/step - loss: 8.5804 - mae: 2.0845 - val_loss: 9.9631 - val_mae: 1.9109\n",
      "Epoch 91/155\n",
      "11/11 [==============================] - 0s 9ms/step - loss: 8.3962 - mae: 2.0519 - val_loss: 9.6155 - val_mae: 1.9263\n",
      "Epoch 92/155\n",
      "11/11 [==============================] - 0s 9ms/step - loss: 8.3173 - mae: 2.0587 - val_loss: 9.8735 - val_mae: 1.9832\n",
      "Epoch 93/155\n",
      "11/11 [==============================] - 0s 9ms/step - loss: 8.2188 - mae: 2.0480 - val_loss: 9.5596 - val_mae: 1.9486\n",
      "Epoch 94/155\n",
      "11/11 [==============================] - 0s 9ms/step - loss: 8.2243 - mae: 2.0616 - val_loss: 9.7514 - val_mae: 1.9907\n",
      "Epoch 95/155\n",
      "11/11 [==============================] - 0s 9ms/step - loss: 8.4280 - mae: 2.0753 - val_loss: 9.9149 - val_mae: 1.9578\n",
      "Epoch 96/155\n",
      "11/11 [==============================] - 0s 9ms/step - loss: 7.9944 - mae: 2.0102 - val_loss: 9.3990 - val_mae: 1.9433\n",
      "Epoch 97/155\n",
      "11/11 [==============================] - 0s 9ms/step - loss: 7.9882 - mae: 2.0098 - val_loss: 9.6112 - val_mae: 1.9657\n",
      "Epoch 98/155\n",
      "11/11 [==============================] - 0s 11ms/step - loss: 8.2345 - mae: 2.0421 - val_loss: 9.5008 - val_mae: 1.9592\n",
      "Epoch 99/155\n",
      "11/11 [==============================] - 0s 11ms/step - loss: 7.8828 - mae: 1.9760 - val_loss: 9.0091 - val_mae: 1.9328\n",
      "Epoch 100/155\n",
      "11/11 [==============================] - 0s 10ms/step - loss: 7.9052 - mae: 1.9865 - val_loss: 9.4663 - val_mae: 1.9337\n",
      "Epoch 101/155\n",
      "11/11 [==============================] - 0s 10ms/step - loss: 7.8187 - mae: 1.9764 - val_loss: 9.4802 - val_mae: 1.9608\n",
      "Epoch 102/155\n",
      "11/11 [==============================] - 0s 10ms/step - loss: 7.7683 - mae: 1.9691 - val_loss: 9.3668 - val_mae: 1.9196\n",
      "Epoch 103/155\n",
      "11/11 [==============================] - 0s 10ms/step - loss: 7.8836 - mae: 1.9774 - val_loss: 9.3980 - val_mae: 1.9523\n",
      "Epoch 104/155\n",
      "11/11 [==============================] - 0s 9ms/step - loss: 8.0151 - mae: 2.0249 - val_loss: 9.0602 - val_mae: 1.9105\n",
      "Epoch 105/155\n",
      "11/11 [==============================] - 0s 9ms/step - loss: 7.8645 - mae: 1.9991 - val_loss: 10.1138 - val_mae: 2.0021\n",
      "Epoch 106/155\n",
      "11/11 [==============================] - 0s 9ms/step - loss: 7.9177 - mae: 2.0198 - val_loss: 9.5738 - val_mae: 2.0204\n",
      "Epoch 107/155\n",
      "11/11 [==============================] - 0s 9ms/step - loss: 7.6395 - mae: 1.9617 - val_loss: 9.2698 - val_mae: 1.9422\n",
      "Epoch 108/155\n",
      "11/11 [==============================] - 0s 9ms/step - loss: 7.6211 - mae: 1.9548 - val_loss: 8.8627 - val_mae: 1.9226\n",
      "Epoch 109/155\n",
      "11/11 [==============================] - 0s 9ms/step - loss: 7.5499 - mae: 1.9704 - val_loss: 8.8595 - val_mae: 1.9646\n",
      "Epoch 110/155\n",
      "11/11 [==============================] - 0s 9ms/step - loss: 7.5454 - mae: 1.9572 - val_loss: 9.4884 - val_mae: 1.9641\n",
      "Epoch 111/155\n",
      "11/11 [==============================] - 0s 9ms/step - loss: 7.3649 - mae: 1.9340 - val_loss: 9.0378 - val_mae: 1.9494\n",
      "Epoch 112/155\n",
      "11/11 [==============================] - 0s 9ms/step - loss: 7.3981 - mae: 1.9322 - val_loss: 9.4457 - val_mae: 1.9826\n",
      "Epoch 113/155\n",
      "11/11 [==============================] - 0s 10ms/step - loss: 7.5372 - mae: 1.9688 - val_loss: 9.2215 - val_mae: 2.0164\n",
      "Epoch 114/155\n",
      "11/11 [==============================] - 0s 9ms/step - loss: 7.2922 - mae: 1.9079 - val_loss: 8.9170 - val_mae: 1.9600\n",
      "Epoch 115/155\n",
      "11/11 [==============================] - 0s 9ms/step - loss: 7.5869 - mae: 1.9635 - val_loss: 9.4077 - val_mae: 2.0095\n",
      "Epoch 116/155\n",
      "11/11 [==============================] - 0s 9ms/step - loss: 8.2920 - mae: 2.0296 - val_loss: 11.0017 - val_mae: 2.0161\n",
      "Epoch 117/155\n",
      "11/11 [==============================] - 0s 9ms/step - loss: 8.2436 - mae: 2.0712 - val_loss: 10.3821 - val_mae: 2.1377\n",
      "Epoch 118/155\n",
      "11/11 [==============================] - 0s 10ms/step - loss: 7.6652 - mae: 1.9982 - val_loss: 10.2761 - val_mae: 2.1127\n",
      "Epoch 119/155\n",
      "11/11 [==============================] - 0s 10ms/step - loss: 8.7397 - mae: 2.1884 - val_loss: 9.6074 - val_mae: 2.0763\n",
      "Epoch 120/155\n",
      "11/11 [==============================] - 0s 9ms/step - loss: 7.6803 - mae: 2.0234 - val_loss: 10.4135 - val_mae: 2.1447\n",
      "Epoch 121/155\n",
      "11/11 [==============================] - 0s 9ms/step - loss: 7.2874 - mae: 1.9634 - val_loss: 9.4271 - val_mae: 2.0199\n",
      "Epoch 122/155\n",
      "11/11 [==============================] - 0s 9ms/step - loss: 7.2511 - mae: 1.9474 - val_loss: 9.4843 - val_mae: 2.0831\n",
      "Epoch 123/155\n"
     ]
    },
    {
     "name": "stdout",
     "output_type": "stream",
     "text": [
      "11/11 [==============================] - 0s 9ms/step - loss: 8.0463 - mae: 2.0861 - val_loss: 9.5541 - val_mae: 2.0996\n",
      "Epoch 124/155\n",
      "11/11 [==============================] - 0s 10ms/step - loss: 7.3837 - mae: 1.9723 - val_loss: 10.4534 - val_mae: 2.1137\n",
      "Epoch 125/155\n",
      "11/11 [==============================] - 0s 10ms/step - loss: 7.1617 - mae: 1.9454 - val_loss: 9.7265 - val_mae: 2.0969\n",
      "Epoch 126/155\n",
      "11/11 [==============================] - 0s 10ms/step - loss: 6.8203 - mae: 1.9005 - val_loss: 9.3240 - val_mae: 2.0376\n",
      "Epoch 127/155\n",
      "11/11 [==============================] - 0s 10ms/step - loss: 6.8414 - mae: 1.8885 - val_loss: 9.2845 - val_mae: 1.9647\n",
      "Epoch 128/155\n",
      "11/11 [==============================] - 0s 11ms/step - loss: 6.6986 - mae: 1.8732 - val_loss: 9.6665 - val_mae: 2.0516\n",
      "Epoch 129/155\n",
      "11/11 [==============================] - 0s 10ms/step - loss: 6.6177 - mae: 1.8588 - val_loss: 9.4210 - val_mae: 1.9818\n",
      "Epoch 130/155\n",
      "11/11 [==============================] - 0s 10ms/step - loss: 7.0486 - mae: 1.9166 - val_loss: 9.9756 - val_mae: 2.0720\n",
      "Epoch 131/155\n",
      "11/11 [==============================] - 0s 10ms/step - loss: 6.5663 - mae: 1.8443 - val_loss: 9.5956 - val_mae: 2.1480\n",
      "Epoch 132/155\n",
      "11/11 [==============================] - 0s 10ms/step - loss: 6.7487 - mae: 1.9106 - val_loss: 9.3938 - val_mae: 2.0849\n",
      "Epoch 133/155\n",
      "11/11 [==============================] - 0s 10ms/step - loss: 6.4499 - mae: 1.8581 - val_loss: 9.4062 - val_mae: 2.0167\n",
      "Epoch 134/155\n",
      "11/11 [==============================] - 0s 10ms/step - loss: 6.8110 - mae: 1.8864 - val_loss: 9.5577 - val_mae: 2.0384\n",
      "Epoch 135/155\n",
      "11/11 [==============================] - 0s 9ms/step - loss: 6.3920 - mae: 1.8454 - val_loss: 9.6426 - val_mae: 2.0798\n",
      "Epoch 136/155\n",
      "11/11 [==============================] - 0s 9ms/step - loss: 6.4368 - mae: 1.8274 - val_loss: 9.2750 - val_mae: 2.0296\n",
      "Epoch 137/155\n",
      "11/11 [==============================] - 0s 9ms/step - loss: 6.6248 - mae: 1.8577 - val_loss: 9.2306 - val_mae: 2.0305\n",
      "Epoch 138/155\n",
      "11/11 [==============================] - 0s 9ms/step - loss: 6.2775 - mae: 1.8364 - val_loss: 9.5102 - val_mae: 2.0790\n",
      "Epoch 139/155\n",
      "11/11 [==============================] - 0s 9ms/step - loss: 6.1821 - mae: 1.7902 - val_loss: 8.9999 - val_mae: 1.9632\n",
      "Epoch 140/155\n",
      "11/11 [==============================] - 0s 9ms/step - loss: 6.3713 - mae: 1.8319 - val_loss: 9.6385 - val_mae: 2.1030\n",
      "Epoch 141/155\n",
      "11/11 [==============================] - 0s 12ms/step - loss: 6.4274 - mae: 1.8474 - val_loss: 9.7328 - val_mae: 1.9958\n",
      "Epoch 142/155\n",
      "11/11 [==============================] - 0s 12ms/step - loss: 6.4271 - mae: 1.8310 - val_loss: 9.5128 - val_mae: 2.0560\n",
      "Epoch 143/155\n",
      "11/11 [==============================] - 0s 11ms/step - loss: 6.1650 - mae: 1.8225 - val_loss: 9.4734 - val_mae: 2.1159\n",
      "Epoch 144/155\n",
      "11/11 [==============================] - 0s 11ms/step - loss: 7.5528 - mae: 2.0333 - val_loss: 9.2586 - val_mae: 2.1076\n",
      "Epoch 145/155\n",
      "11/11 [==============================] - 0s 11ms/step - loss: 6.9962 - mae: 1.9676 - val_loss: 10.9005 - val_mae: 2.3197\n",
      "Epoch 146/155\n",
      "11/11 [==============================] - 0s 11ms/step - loss: 6.3365 - mae: 1.8622 - val_loss: 9.2687 - val_mae: 2.0927\n",
      "Epoch 147/155\n",
      "11/11 [==============================] - 0s 11ms/step - loss: 6.2223 - mae: 1.8153 - val_loss: 9.3967 - val_mae: 2.0484\n",
      "Epoch 148/155\n",
      "11/11 [==============================] - 0s 9ms/step - loss: 5.9658 - mae: 1.7752 - val_loss: 9.5422 - val_mae: 2.1305\n",
      "Epoch 149/155\n",
      "11/11 [==============================] - 0s 9ms/step - loss: 6.0293 - mae: 1.7970 - val_loss: 9.4808 - val_mae: 2.0997\n",
      "Epoch 150/155\n",
      "11/11 [==============================] - 0s 11ms/step - loss: 5.8418 - mae: 1.7397 - val_loss: 9.5372 - val_mae: 2.0687\n",
      "Epoch 151/155\n",
      "11/11 [==============================] - 0s 11ms/step - loss: 5.8547 - mae: 1.7319 - val_loss: 9.3798 - val_mae: 2.1104\n",
      "Epoch 152/155\n",
      "11/11 [==============================] - 0s 11ms/step - loss: 5.8169 - mae: 1.7587 - val_loss: 9.1141 - val_mae: 2.0664\n",
      "Epoch 153/155\n",
      "11/11 [==============================] - 0s 11ms/step - loss: 5.9386 - mae: 1.7386 - val_loss: 9.0899 - val_mae: 1.9928\n",
      "Epoch 154/155\n",
      "11/11 [==============================] - 0s 10ms/step - loss: 6.0802 - mae: 1.7954 - val_loss: 9.2598 - val_mae: 2.0783\n",
      "Epoch 155/155\n",
      "11/11 [==============================] - 0s 10ms/step - loss: 5.8741 - mae: 1.7682 - val_loss: 9.6035 - val_mae: 2.1355\n"
     ]
    }
   ],
   "source": [
    "history=model.fit(x_train_scaled,y_train,validation_split=0.2,epochs=155)"
   ]
  },
  {
   "cell_type": "code",
   "execution_count": 1229,
   "id": "f6eb9214",
   "metadata": {},
   "outputs": [],
   "source": [
    "loss = history.history['loss']\n",
    "val_loss = history.history['val_loss']\n",
    "epochs = range(1,len(loss) + 1)"
   ]
  },
  {
   "cell_type": "code",
   "execution_count": 1230,
   "id": "97d869ce",
   "metadata": {},
   "outputs": [
    {
     "data": {
      "image/png": "[encoded data removed]",
      "text/plain": [
       "<Figure size 432x288 with 1 Axes>"
      ]
     },
     "metadata": {
      "needs_background": "light"
     },
     "output_type": "display_data"
    }
   ],
   "source": [
    "plt.plot(epochs,loss,'y',label='Training loss')\n",
    "plt.plot(epochs,val_loss,'r',label='Validation loss')\n",
    "plt.title('Training and validation loss')\n",
    "plt.xlabel('Epochs')\n",
    "plt.ylabel('Loss')\n",
    "plt.legend()\n",
    "plt.show()"
   ]
  },
  {
   "cell_type": "code",
   "execution_count": 1231,
   "id": "a79b6aaa",
   "metadata": {},
   "outputs": [],
   "source": [
    "acc = history.history['mae']\n",
    "val_acc = history.history['val_mae']"
   ]
  },
  {
   "cell_type": "code",
   "execution_count": 1232,
   "id": "62540797",
   "metadata": {},
   "outputs": [
    {
     "data": {
      "image/png": "[encoded data removed]",
      "text/plain": [
       "<Figure size 432x288 with 1 Axes>"
      ]
     },
     "metadata": {
      "needs_background": "light"
     },
     "output_type": "display_data"
    }
   ],
   "source": [
    "plt.plot(epochs,acc,'y',label='Training MAE')\n",
    "plt.plot(epochs,val_acc,'r',label='Validation MAE')\n",
    "plt.title('Training and validation MAE')\n",
    "plt.xlabel('Epochs')\n",
    "plt.ylabel('Accuracy')\n",
    "plt.legend()\n",
    "plt.show()"
   ]
  },
  {
   "cell_type": "code",
   "execution_count": 1246,
   "id": "96823727",
   "metadata": {},
   "outputs": [
    {
     "name": "stdout",
     "output_type": "stream",
     "text": [
      "Predicted values are: \n",
      "[45.495      15.68666667 21.62333333 15.97333333 17.48833333]\n",
      "   -------------------------------------------------------   \n",
      "real values are: \n",
      "282    46.0\n",
      "48     14.4\n",
      "12     21.7\n",
      "31     14.5\n",
      "315    16.2\n",
      "Name: PRICE, dtype: float64\n"
     ]
    }
   ],
   "source": [
    "predictions = model.predict(x_train_scaled[:5])\n",
    "print(\"Predicted values are: \")\n",
    "print(predictions)\n",
    "print(\"   -------------------------------------------------------   \")\n",
    "print(\"real values are: \")\n",
    "print(y_train[:5])"
   ]
  },
  {
   "cell_type": "code",
   "execution_count": 1234,
   "id": "640ea4e4",
   "metadata": {},
   "outputs": [],
   "source": [
    "np.random.seed(0)"
   ]
  },
  {
   "cell_type": "code",
   "execution_count": 1235,
   "id": "b137b0c5",
   "metadata": {},
   "outputs": [
    {
     "name": "stdout",
     "output_type": "stream",
     "text": [
      "4/4 [==============================] - 0s 4ms/step - loss: 7.7230 - mae: 2.1386\n",
      "Mean squared error from neural net:  7.72300910949707\n",
      "Mean absolute error from neural net:  2.138598918914795\n"
     ]
    }
   ],
   "source": [
    "mse_neural, mae_neural = model.evaluate(x_test_scaled,y_test)\n",
    "print('Mean squared error from neural net: ',mse_neural)\n",
    "print('Mean absolute error from neural net: ',mae_neural)"
   ]
  },
  {
   "cell_type": "code",
   "execution_count": 1236,
   "id": "c0be7437",
   "metadata": {},
   "outputs": [
    {
     "name": "stdout",
     "output_type": "stream",
     "text": [
      "Mean squared error from random forest:  7.2817691448801725\n",
      "Mean absolute error from random forest:  2.012990196078431\n"
     ]
    }
   ],
   "source": [
    "model=RandomForestRegressor(n_estimators=60,random_state=42)\n",
    "model.fit(x_train_scaled,y_train)\n",
    "y_pred_RF=model.predict(x_test_scaled)\n",
    "mse_RF = mean_squared_error(y_test,y_pred_RF)\n",
    "mae_RF=mean_absolute_error(y_test,y_pred_RF)\n",
    "print('Mean squared error from random forest: ',mse_RF)\n",
    "print('Mean absolute error from random forest: ',mae_RF)"
   ]
  },
  {
   "cell_type": "code",
   "execution_count": 1237,
   "id": "a621ed4f",
   "metadata": {},
   "outputs": [
    {
     "name": "stdout",
     "output_type": "stream",
     "text": [
      "Mean squared error from linear regression:  13.510777780095683\n",
      "Mean absolute error from linear regression:  2.8818195347234985\n"
     ]
    }
   ],
   "source": [
    "lr_model=linear_model.LinearRegression()\n",
    "lr_model.fit(x_train_scaled,y_train)\n",
    "y_pred_lr=lr_model.predict(x_test_scaled)\n",
    "mse_lr = mean_squared_error(y_test,y_pred_lr)\n",
    "mae_lr=mean_absolute_error(y_test,y_pred_lr)\n",
    "print('Mean squared error from linear regression: ',mse_lr)\n",
    "print('Mean absolute error from linear regression: ',mae_lr)"
   ]
  },
  {
   "cell_type": "code",
   "execution_count": 1238,
   "id": "f6e19274",
   "metadata": {},
   "outputs": [
    {
     "data": {
      "text/plain": [
       "LSTAT      0.453635\n",
       "RM         0.348420\n",
       "DIS        0.061733\n",
       "CRIM       0.044400\n",
       "NOX        0.023331\n",
       "PTRATIO    0.018047\n",
       "AGE        0.013657\n",
       "TAX        0.013455\n",
       "B          0.010837\n",
       "INDUS      0.004969\n",
       "RAD        0.004520\n",
       "CHAS       0.001536\n",
       "ZN         0.001459\n",
       "dtype: float64"
      ]
     },
     "execution_count": 1238,
     "metadata": {},
     "output_type": "execute_result"
    }
   ],
   "source": [
    "feature_list = list(x.columns)\n",
    "feature_imp=pd.Series(model.feature_importances_,index=feature_list).sort_values(ascending=False)\n",
    "feature_imp"
   ]
  }
 ],
 "metadata": {
  "kernelspec": {
   "display_name": "Python 3 (ipykernel)",
   "language": "python",
   "name": "python3"
  },
  "language_info": {
   "codemirror_mode": {
    "name": "ipython",
    "version": 3
   },
   "file_extension": ".py",
   "mimetype": "text/x-python",
   "name": "python",
   "nbconvert_exporter": "python",
   "pygments_lexer": "ipython3",
   "version": "3.9.12"
  }
 },
 "nbformat": 4,
 "nbformat_minor": 5
}
