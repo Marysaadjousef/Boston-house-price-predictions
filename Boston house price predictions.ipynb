{
 "cells": [
  {
   "cell_type": "code",
   "execution_count": 386,
   "id": "143b7460",
   "metadata": {
    "scrolled": false
   },
   "outputs": [],
   "source": [
    "import warnings\n",
    "import numpy as np\n",
    "import pandas as pd\n",
    "from sklearn import linear_model\n",
    "from matplotlib import pyplot as plt\n",
    "from tensorflow.keras.layers import Dense\n",
    "from sklearn.tree import DecisionTreeRegressor\n",
    "from tensorflow.keras.models import Sequential\n",
    "from sklearn.preprocessing import StandardScaler\n",
    "from sklearn.ensemble import RandomForestRegressor\n",
    "from sklearn.model_selection import train_test_split\n",
    "from sklearn.metrics import mean_squared_error, mean_absolute_error\n",
    "warnings.filterwarnings(\"ignore\")"
   ]
  },
  {
   "cell_type": "code",
   "execution_count": 387,
   "id": "6628146e",
   "metadata": {},
   "outputs": [],
   "source": [
    "df=pd.read_csv(r\"\\Users\\Family\\Downloads\\archive (2)\\hou_all.csv\",header=None)"
   ]
  },
  {
   "cell_type": "code",
   "execution_count": 388,
   "id": "cda9bda7",
   "metadata": {},
   "outputs": [],
   "source": [
    "feature_names = ['CRIM','ZN','INDUS','CHAS','NOX','RM','AGE',\n",
    "                'DIS','RAD','TAX','PTRATIO','B','LSTAT','PRICE','v']\n",
    "df.columns = feature_names  "
   ]
  },
  {
   "cell_type": "code",
   "execution_count": 389,
   "id": "e5d384aa",
   "metadata": {
    "scrolled": true
   },
   "outputs": [
    {
     "data": {
      "text/html": [
       "<div>\n",
       "<style scoped>\n",
       "    .dataframe tbody tr th:only-of-type {\n",
       "        vertical-align: middle;\n",
       "    }\n",
       "\n",
       "    .dataframe tbody tr th {\n",
       "        vertical-align: top;\n",
       "    }\n",
       "\n",
       "    .dataframe thead th {\n",
       "        text-align: right;\n",
       "    }\n",
       "</style>\n",
       "<table border=\"1\" class=\"dataframe\">\n",
       "  <thead>\n",
       "    <tr style=\"text-align: right;\">\n",
       "      <th></th>\n",
       "      <th>CRIM</th>\n",
       "      <th>ZN</th>\n",
       "      <th>INDUS</th>\n",
       "      <th>CHAS</th>\n",
       "      <th>NOX</th>\n",
       "      <th>RM</th>\n",
       "      <th>AGE</th>\n",
       "      <th>DIS</th>\n",
       "      <th>RAD</th>\n",
       "      <th>TAX</th>\n",
       "      <th>PTRATIO</th>\n",
       "      <th>B</th>\n",
       "      <th>LSTAT</th>\n",
       "      <th>PRICE</th>\n",
       "      <th>v</th>\n",
       "    </tr>\n",
       "  </thead>\n",
       "  <tbody>\n",
       "    <tr>\n",
       "      <th>0</th>\n",
       "      <td>0.00632</td>\n",
       "      <td>18.0</td>\n",
       "      <td>2.31</td>\n",
       "      <td>0</td>\n",
       "      <td>0.538</td>\n",
       "      <td>6.575</td>\n",
       "      <td>65.2</td>\n",
       "      <td>4.0900</td>\n",
       "      <td>1</td>\n",
       "      <td>296</td>\n",
       "      <td>15.3</td>\n",
       "      <td>396.90</td>\n",
       "      <td>4.98</td>\n",
       "      <td>24.0</td>\n",
       "      <td>1</td>\n",
       "    </tr>\n",
       "    <tr>\n",
       "      <th>1</th>\n",
       "      <td>0.02731</td>\n",
       "      <td>0.0</td>\n",
       "      <td>7.07</td>\n",
       "      <td>0</td>\n",
       "      <td>0.469</td>\n",
       "      <td>6.421</td>\n",
       "      <td>78.9</td>\n",
       "      <td>4.9671</td>\n",
       "      <td>2</td>\n",
       "      <td>242</td>\n",
       "      <td>17.8</td>\n",
       "      <td>396.90</td>\n",
       "      <td>9.14</td>\n",
       "      <td>21.6</td>\n",
       "      <td>1</td>\n",
       "    </tr>\n",
       "    <tr>\n",
       "      <th>2</th>\n",
       "      <td>0.02729</td>\n",
       "      <td>0.0</td>\n",
       "      <td>7.07</td>\n",
       "      <td>0</td>\n",
       "      <td>0.469</td>\n",
       "      <td>7.185</td>\n",
       "      <td>61.1</td>\n",
       "      <td>4.9671</td>\n",
       "      <td>2</td>\n",
       "      <td>242</td>\n",
       "      <td>17.8</td>\n",
       "      <td>392.83</td>\n",
       "      <td>4.03</td>\n",
       "      <td>34.7</td>\n",
       "      <td>1</td>\n",
       "    </tr>\n",
       "    <tr>\n",
       "      <th>3</th>\n",
       "      <td>0.03237</td>\n",
       "      <td>0.0</td>\n",
       "      <td>2.18</td>\n",
       "      <td>0</td>\n",
       "      <td>0.458</td>\n",
       "      <td>6.998</td>\n",
       "      <td>45.8</td>\n",
       "      <td>6.0622</td>\n",
       "      <td>3</td>\n",
       "      <td>222</td>\n",
       "      <td>18.7</td>\n",
       "      <td>394.63</td>\n",
       "      <td>2.94</td>\n",
       "      <td>33.4</td>\n",
       "      <td>1</td>\n",
       "    </tr>\n",
       "    <tr>\n",
       "      <th>4</th>\n",
       "      <td>0.06905</td>\n",
       "      <td>0.0</td>\n",
       "      <td>2.18</td>\n",
       "      <td>0</td>\n",
       "      <td>0.458</td>\n",
       "      <td>7.147</td>\n",
       "      <td>54.2</td>\n",
       "      <td>6.0622</td>\n",
       "      <td>3</td>\n",
       "      <td>222</td>\n",
       "      <td>18.7</td>\n",
       "      <td>396.90</td>\n",
       "      <td>5.33</td>\n",
       "      <td>36.2</td>\n",
       "      <td>1</td>\n",
       "    </tr>\n",
       "  </tbody>\n",
       "</table>\n",
       "</div>"
      ],
      "text/plain": [
       "      CRIM    ZN  INDUS  CHAS    NOX     RM   AGE     DIS  RAD  TAX  PTRATIO       B  LSTAT  PRICE  v\n",
       "0  0.00632  18.0   2.31     0  0.538  6.575  65.2  4.0900    1  296     15.3  396.90   4.98   24.0  1\n",
       "1  0.02731   0.0   7.07     0  0.469  6.421  78.9  4.9671    2  242     17.8  396.90   9.14   21.6  1\n",
       "2  0.02729   0.0   7.07     0  0.469  7.185  61.1  4.9671    2  242     17.8  392.83   4.03   34.7  1\n",
       "3  0.03237   0.0   2.18     0  0.458  6.998  45.8  6.0622    3  222     18.7  394.63   2.94   33.4  1\n",
       "4  0.06905   0.0   2.18     0  0.458  7.147  54.2  6.0622    3  222     18.7  396.90   5.33   36.2  1"
      ]
     },
     "execution_count": 389,
     "metadata": {},
     "output_type": "execute_result"
    }
   ],
   "source": [
    "df.head()"
   ]
  },
  {
   "cell_type": "markdown",
   "id": "1586633e",
   "metadata": {},
   "source": [
    "CRIM: per capita crime rate by town\n",
    "\n",
    "ZN: proportion of residential land zoned for lots over 25,000 sq.ft.\n",
    "\n",
    "INDUS: proportion of non_retial business acres per town\n",
    "\n",
    "CHAS: Charles River dummy variable (equal 1 if track nbounds river and 0 otherwise)\n",
    "\n",
    "NOX: nitric oxides concetration (parts per 10 million)\n",
    "\n",
    "RM: average number of rooms per dwelling \n",
    "\n",
    "AGE: proportionrtion of owner-occupied units built prior to 1940\n",
    "\n",
    "DIS: weighted distances to five Boston employment centers\n",
    "\n",
    "RAD: index of accessibility to radial highways\n",
    "\n",
    "TAX: full-value property-tax rate per $10,000\n",
    "\n",
    "PTRATIO: pupil-teacher ratio by town\n",
    "\n",
    "B: 1000(BK - 0.63)^2 where BK is the proportion of blacks by town\n",
    "\n",
    "LSTAT: % lower status of the population\n",
    "\n",
    "PRICE (MEDV): Median value of owner-occupied homes in $1000's\n",
    "    "
   ]
  },
  {
   "cell_type": "code",
   "execution_count": 390,
   "id": "4ac581df",
   "metadata": {},
   "outputs": [],
   "source": [
    "x=df.drop(['PRICE','v'],axis=1)\n",
    "y=df['PRICE']"
   ]
  },
  {
   "cell_type": "code",
   "execution_count": 391,
   "id": "d007336c",
   "metadata": {},
   "outputs": [],
   "source": [
    "x_train,x_test,y_train,y_test = train_test_split(x,y,test_size=0.2,random_state=42)"
   ]
  },
  {
   "cell_type": "code",
   "execution_count": 392,
   "id": "e0c08011",
   "metadata": {},
   "outputs": [],
   "source": [
    "scaler = StandardScaler()\n",
    "scaler.fit(x_train)\n",
    "x_train_scaled=scaler.transform(x_train)\n",
    "x_test_scaled=scaler.transform(x_test)"
   ]
  },
  {
   "cell_type": "code",
   "execution_count": 393,
   "id": "1f523216",
   "metadata": {},
   "outputs": [],
   "source": [
    "model = Sequential()\n",
    "model.add(Dense(128,input_dim=13,activation='relu'))\n",
    "model.add(Dense(64,activation='relu'))\n",
    "\n",
    "model.add(Dense(1,activation='linear'))"
   ]
  },
  {
   "cell_type": "code",
   "execution_count": 394,
   "id": "1c7ad405",
   "metadata": {},
   "outputs": [],
   "source": [
    "model.compile(loss='mean_squared_error',optimizer='adam',metrics=['mae'])"
   ]
  },
  {
   "cell_type": "code",
   "execution_count": 395,
   "id": "e2f77ea8",
   "metadata": {},
   "outputs": [
    {
     "name": "stdout",
     "output_type": "stream",
     "text": [
      "Model: \"sequential_14\"\n",
      "_________________________________________________________________\n",
      " Layer (type)                Output Shape              Param #   \n",
      "=================================================================\n",
      " dense_42 (Dense)            (None, 128)               1792      \n",
      "                                                                 \n",
      " dense_43 (Dense)            (None, 64)                8256      \n",
      "                                                                 \n",
      " dense_44 (Dense)            (None, 1)                 65        \n",
      "                                                                 \n",
      "=================================================================\n",
      "Total params: 10113 (39.50 KB)\n",
      "Trainable params: 10113 (39.50 KB)\n",
      "Non-trainable params: 0 (0.00 Byte)\n",
      "_________________________________________________________________\n"
     ]
    }
   ],
   "source": [
    "model.summary()"
   ]
  },
  {
   "cell_type": "code",
   "execution_count": 396,
   "id": "a0cf3c0c",
   "metadata": {},
   "outputs": [
    {
     "name": "stdout",
     "output_type": "stream",
     "text": [
      "Epoch 1/100\n",
      "11/11 [==============================] - 1s 22ms/step - loss: 569.2264 - mae: 21.7913 - val_loss: 469.7433 - val_mae: 19.9824\n",
      "Epoch 2/100\n",
      "11/11 [==============================] - 0s 5ms/step - loss: 490.5283 - mae: 19.9260 - val_loss: 390.5444 - val_mae: 17.9719\n",
      "Epoch 3/100\n",
      "11/11 [==============================] - 0s 5ms/step - loss: 394.4857 - mae: 17.5141 - val_loss: 292.8559 - val_mae: 15.2363\n",
      "Epoch 4/100\n",
      "11/11 [==============================] - 0s 5ms/step - loss: 282.2119 - mae: 14.3075 - val_loss: 185.8070 - val_mae: 11.7120\n",
      "Epoch 5/100\n",
      "11/11 [==============================] - 0s 5ms/step - loss: 170.5967 - mae: 10.5182 - val_loss: 96.8877 - val_mae: 7.7566\n",
      "Epoch 6/100\n",
      "11/11 [==============================] - 0s 5ms/step - loss: 94.8148 - mae: 7.5523 - val_loss: 50.9057 - val_mae: 5.1920\n",
      "Epoch 7/100\n",
      "11/11 [==============================] - 0s 5ms/step - loss: 62.9118 - mae: 6.1733 - val_loss: 36.0520 - val_mae: 4.3950\n",
      "Epoch 8/100\n",
      "11/11 [==============================] - 0s 5ms/step - loss: 46.5581 - mae: 5.3377 - val_loss: 29.1488 - val_mae: 3.8751\n",
      "Epoch 9/100\n",
      "11/11 [==============================] - 0s 5ms/step - loss: 35.1328 - mae: 4.5540 - val_loss: 26.9336 - val_mae: 3.7565\n",
      "Epoch 10/100\n",
      "11/11 [==============================] - 0s 6ms/step - loss: 28.6416 - mae: 3.9956 - val_loss: 26.7927 - val_mae: 3.7409\n",
      "Epoch 11/100\n",
      "11/11 [==============================] - 0s 6ms/step - loss: 25.2839 - mae: 3.7132 - val_loss: 26.8264 - val_mae: 3.7423\n",
      "Epoch 12/100\n",
      "11/11 [==============================] - 0s 5ms/step - loss: 23.0330 - mae: 3.5574 - val_loss: 26.3852 - val_mae: 3.7103\n",
      "Epoch 13/100\n",
      "11/11 [==============================] - 0s 4ms/step - loss: 21.5729 - mae: 3.4496 - val_loss: 25.2257 - val_mae: 3.5907\n",
      "Epoch 14/100\n",
      "11/11 [==============================] - 0s 4ms/step - loss: 20.3903 - mae: 3.3316 - val_loss: 24.3499 - val_mae: 3.5142\n",
      "Epoch 15/100\n",
      "11/11 [==============================] - 0s 5ms/step - loss: 19.4826 - mae: 3.2818 - val_loss: 23.6280 - val_mae: 3.4853\n",
      "Epoch 16/100\n",
      "11/11 [==============================] - 0s 5ms/step - loss: 18.5666 - mae: 3.2131 - val_loss: 22.9126 - val_mae: 3.4378\n",
      "Epoch 17/100\n",
      "11/11 [==============================] - 0s 5ms/step - loss: 17.8238 - mae: 3.1283 - val_loss: 22.3159 - val_mae: 3.3679\n",
      "Epoch 18/100\n",
      "11/11 [==============================] - 0s 5ms/step - loss: 17.1085 - mae: 3.0466 - val_loss: 21.6053 - val_mae: 3.2793\n",
      "Epoch 19/100\n",
      "11/11 [==============================] - 0s 5ms/step - loss: 16.5074 - mae: 2.9874 - val_loss: 21.4879 - val_mae: 3.2268\n",
      "Epoch 20/100\n",
      "11/11 [==============================] - 0s 5ms/step - loss: 16.0082 - mae: 2.9353 - val_loss: 21.0507 - val_mae: 3.1893\n",
      "Epoch 21/100\n",
      "11/11 [==============================] - 0s 5ms/step - loss: 15.5037 - mae: 2.8907 - val_loss: 20.5384 - val_mae: 3.1466\n",
      "Epoch 22/100\n",
      "11/11 [==============================] - 0s 5ms/step - loss: 15.1895 - mae: 2.8600 - val_loss: 20.3491 - val_mae: 3.1352\n",
      "Epoch 23/100\n",
      "11/11 [==============================] - 0s 5ms/step - loss: 14.8121 - mae: 2.8624 - val_loss: 20.2444 - val_mae: 3.1154\n",
      "Epoch 24/100\n",
      "11/11 [==============================] - 0s 5ms/step - loss: 14.5104 - mae: 2.8059 - val_loss: 19.2292 - val_mae: 3.0060\n",
      "Epoch 25/100\n",
      "11/11 [==============================] - 0s 4ms/step - loss: 14.0490 - mae: 2.7559 - val_loss: 18.9598 - val_mae: 2.9743\n",
      "Epoch 26/100\n",
      "11/11 [==============================] - 0s 5ms/step - loss: 13.7127 - mae: 2.6937 - val_loss: 18.5697 - val_mae: 2.9296\n",
      "Epoch 27/100\n",
      "11/11 [==============================] - 0s 5ms/step - loss: 13.4287 - mae: 2.6578 - val_loss: 18.1367 - val_mae: 2.9138\n",
      "Epoch 28/100\n",
      "11/11 [==============================] - 0s 5ms/step - loss: 13.0797 - mae: 2.6429 - val_loss: 18.0038 - val_mae: 2.8946\n",
      "Epoch 29/100\n",
      "11/11 [==============================] - 0s 5ms/step - loss: 12.8678 - mae: 2.6104 - val_loss: 17.9493 - val_mae: 2.8960\n",
      "Epoch 30/100\n",
      "11/11 [==============================] - 0s 5ms/step - loss: 12.5564 - mae: 2.5748 - val_loss: 17.6394 - val_mae: 2.8580\n",
      "Epoch 31/100\n",
      "11/11 [==============================] - 0s 5ms/step - loss: 12.3639 - mae: 2.5564 - val_loss: 17.8100 - val_mae: 2.8757\n",
      "Epoch 32/100\n",
      "11/11 [==============================] - 0s 4ms/step - loss: 12.1998 - mae: 2.5541 - val_loss: 17.6383 - val_mae: 2.8627\n",
      "Epoch 33/100\n",
      "11/11 [==============================] - 0s 5ms/step - loss: 12.0177 - mae: 2.5355 - val_loss: 17.0117 - val_mae: 2.8379\n",
      "Epoch 34/100\n",
      "11/11 [==============================] - 0s 5ms/step - loss: 11.8132 - mae: 2.5048 - val_loss: 16.5536 - val_mae: 2.7949\n",
      "Epoch 35/100\n",
      "11/11 [==============================] - 0s 5ms/step - loss: 11.6530 - mae: 2.5062 - val_loss: 16.8811 - val_mae: 2.8207\n",
      "Epoch 36/100\n",
      "11/11 [==============================] - 0s 4ms/step - loss: 11.4971 - mae: 2.4692 - val_loss: 16.8334 - val_mae: 2.7971\n",
      "Epoch 37/100\n",
      "11/11 [==============================] - 0s 5ms/step - loss: 11.3711 - mae: 2.4486 - val_loss: 16.5111 - val_mae: 2.7668\n",
      "Epoch 38/100\n",
      "11/11 [==============================] - 0s 5ms/step - loss: 11.2745 - mae: 2.4408 - val_loss: 16.5682 - val_mae: 2.7835\n",
      "Epoch 39/100\n",
      "11/11 [==============================] - 0s 5ms/step - loss: 11.2208 - mae: 2.4408 - val_loss: 16.1782 - val_mae: 2.7839\n",
      "Epoch 40/100\n",
      "11/11 [==============================] - 0s 5ms/step - loss: 10.9472 - mae: 2.3926 - val_loss: 15.8656 - val_mae: 2.7234\n",
      "Epoch 41/100\n",
      "11/11 [==============================] - 0s 5ms/step - loss: 10.8776 - mae: 2.3774 - val_loss: 15.6973 - val_mae: 2.7215\n",
      "Epoch 42/100\n",
      "11/11 [==============================] - 0s 5ms/step - loss: 10.6884 - mae: 2.3533 - val_loss: 15.5460 - val_mae: 2.7142\n",
      "Epoch 43/100\n",
      "11/11 [==============================] - 0s 5ms/step - loss: 10.6253 - mae: 2.3479 - val_loss: 15.5702 - val_mae: 2.7222\n",
      "Epoch 44/100\n",
      "11/11 [==============================] - 0s 5ms/step - loss: 10.4331 - mae: 2.3111 - val_loss: 16.1393 - val_mae: 2.7521\n",
      "Epoch 45/100\n",
      "11/11 [==============================] - 0s 5ms/step - loss: 10.5711 - mae: 2.3193 - val_loss: 15.0059 - val_mae: 2.6686\n",
      "Epoch 46/100\n",
      "11/11 [==============================] - 0s 5ms/step - loss: 10.2454 - mae: 2.2884 - val_loss: 14.8997 - val_mae: 2.6656\n",
      "Epoch 47/100\n",
      "11/11 [==============================] - 0s 5ms/step - loss: 10.0864 - mae: 2.2983 - val_loss: 15.4068 - val_mae: 2.7306\n",
      "Epoch 48/100\n",
      "11/11 [==============================] - 0s 5ms/step - loss: 9.9920 - mae: 2.2900 - val_loss: 14.9607 - val_mae: 2.6933\n",
      "Epoch 49/100\n",
      "11/11 [==============================] - 0s 5ms/step - loss: 9.9756 - mae: 2.3015 - val_loss: 15.0138 - val_mae: 2.6718\n",
      "Epoch 50/100\n",
      "11/11 [==============================] - 0s 5ms/step - loss: 10.2899 - mae: 2.3153 - val_loss: 15.2424 - val_mae: 2.6928\n",
      "Epoch 51/100\n",
      "11/11 [==============================] - 0s 5ms/step - loss: 9.9358 - mae: 2.2797 - val_loss: 14.9516 - val_mae: 2.7057\n",
      "Epoch 52/100\n",
      "11/11 [==============================] - 0s 5ms/step - loss: 9.8122 - mae: 2.2726 - val_loss: 14.2674 - val_mae: 2.6422\n",
      "Epoch 53/100\n",
      "11/11 [==============================] - 0s 4ms/step - loss: 9.5508 - mae: 2.2502 - val_loss: 14.7311 - val_mae: 2.6759\n",
      "Epoch 54/100\n",
      "11/11 [==============================] - 0s 4ms/step - loss: 9.3928 - mae: 2.2137 - val_loss: 14.4783 - val_mae: 2.6537\n",
      "Epoch 55/100\n",
      "11/11 [==============================] - 0s 4ms/step - loss: 9.4049 - mae: 2.2162 - val_loss: 13.9658 - val_mae: 2.6174\n",
      "Epoch 56/100\n",
      "11/11 [==============================] - 0s 4ms/step - loss: 9.3528 - mae: 2.2110 - val_loss: 14.5579 - val_mae: 2.6367\n",
      "Epoch 57/100\n",
      "11/11 [==============================] - 0s 4ms/step - loss: 9.0992 - mae: 2.1748 - val_loss: 13.9848 - val_mae: 2.6148\n",
      "Epoch 58/100\n",
      "11/11 [==============================] - 0s 4ms/step - loss: 9.3365 - mae: 2.1989 - val_loss: 13.9499 - val_mae: 2.5924\n",
      "Epoch 59/100\n",
      "11/11 [==============================] - 0s 6ms/step - loss: 9.5147 - mae: 2.2774 - val_loss: 14.3281 - val_mae: 2.6884\n",
      "Epoch 60/100\n",
      "11/11 [==============================] - 0s 6ms/step - loss: 9.4079 - mae: 2.2306 - val_loss: 14.1911 - val_mae: 2.6183\n",
      "Epoch 61/100\n",
      "11/11 [==============================] - 0s 5ms/step - loss: 9.1022 - mae: 2.1566 - val_loss: 14.6231 - val_mae: 2.6769\n",
      "Epoch 62/100\n"
     ]
    },
    {
     "name": "stdout",
     "output_type": "stream",
     "text": [
      "11/11 [==============================] - 0s 4ms/step - loss: 8.8632 - mae: 2.1455 - val_loss: 14.6228 - val_mae: 2.6898\n",
      "Epoch 63/100\n",
      "11/11 [==============================] - 0s 4ms/step - loss: 8.8318 - mae: 2.1513 - val_loss: 14.0853 - val_mae: 2.6427\n",
      "Epoch 64/100\n",
      "11/11 [==============================] - 0s 4ms/step - loss: 8.7620 - mae: 2.1307 - val_loss: 13.7966 - val_mae: 2.6089\n",
      "Epoch 65/100\n",
      "11/11 [==============================] - 0s 4ms/step - loss: 8.6409 - mae: 2.1153 - val_loss: 13.4717 - val_mae: 2.5909\n",
      "Epoch 66/100\n",
      "11/11 [==============================] - 0s 4ms/step - loss: 8.5622 - mae: 2.1047 - val_loss: 13.7432 - val_mae: 2.5840\n",
      "Epoch 67/100\n",
      "11/11 [==============================] - 0s 6ms/step - loss: 9.5067 - mae: 2.1914 - val_loss: 15.6006 - val_mae: 2.6844\n",
      "Epoch 68/100\n",
      "11/11 [==============================] - 0s 7ms/step - loss: 10.3017 - mae: 2.4259 - val_loss: 15.6628 - val_mae: 2.9115\n",
      "Epoch 69/100\n",
      "11/11 [==============================] - 0s 5ms/step - loss: 9.6525 - mae: 2.3658 - val_loss: 13.6164 - val_mae: 2.6011\n",
      "Epoch 70/100\n",
      "11/11 [==============================] - 0s 5ms/step - loss: 9.0031 - mae: 2.1890 - val_loss: 14.6407 - val_mae: 2.6637\n",
      "Epoch 71/100\n",
      "11/11 [==============================] - 0s 5ms/step - loss: 8.7576 - mae: 2.1895 - val_loss: 14.9190 - val_mae: 2.8212\n",
      "Epoch 72/100\n",
      "11/11 [==============================] - 0s 4ms/step - loss: 8.7720 - mae: 2.1958 - val_loss: 13.7413 - val_mae: 2.6687\n",
      "Epoch 73/100\n",
      "11/11 [==============================] - 0s 4ms/step - loss: 8.2849 - mae: 2.1346 - val_loss: 13.7165 - val_mae: 2.6315\n",
      "Epoch 74/100\n",
      "11/11 [==============================] - 0s 5ms/step - loss: 8.2324 - mae: 2.1051 - val_loss: 12.8040 - val_mae: 2.5648\n",
      "Epoch 75/100\n",
      "11/11 [==============================] - 0s 4ms/step - loss: 8.0184 - mae: 2.0778 - val_loss: 13.0281 - val_mae: 2.5779\n",
      "Epoch 76/100\n",
      "11/11 [==============================] - 0s 4ms/step - loss: 7.9151 - mae: 2.0667 - val_loss: 13.1126 - val_mae: 2.5882\n",
      "Epoch 77/100\n",
      "11/11 [==============================] - 0s 4ms/step - loss: 8.0597 - mae: 2.1048 - val_loss: 13.9192 - val_mae: 2.6592\n",
      "Epoch 78/100\n",
      "11/11 [==============================] - 0s 4ms/step - loss: 7.7383 - mae: 2.0516 - val_loss: 13.4064 - val_mae: 2.6314\n",
      "Epoch 79/100\n",
      "11/11 [==============================] - 0s 4ms/step - loss: 7.7696 - mae: 2.0628 - val_loss: 13.4645 - val_mae: 2.6090\n",
      "Epoch 80/100\n",
      "11/11 [==============================] - 0s 5ms/step - loss: 7.5568 - mae: 2.0317 - val_loss: 13.0993 - val_mae: 2.5837\n",
      "Epoch 81/100\n",
      "11/11 [==============================] - 0s 4ms/step - loss: 7.6006 - mae: 2.0424 - val_loss: 13.5651 - val_mae: 2.6225\n",
      "Epoch 82/100\n",
      "11/11 [==============================] - 0s 4ms/step - loss: 7.5719 - mae: 2.0452 - val_loss: 14.1626 - val_mae: 2.6807\n",
      "Epoch 83/100\n",
      "11/11 [==============================] - 0s 4ms/step - loss: 7.6375 - mae: 2.0328 - val_loss: 12.6500 - val_mae: 2.5415\n",
      "Epoch 84/100\n",
      "11/11 [==============================] - 0s 4ms/step - loss: 7.4776 - mae: 2.0041 - val_loss: 13.0515 - val_mae: 2.6079\n",
      "Epoch 85/100\n",
      "11/11 [==============================] - 0s 4ms/step - loss: 7.4356 - mae: 2.0126 - val_loss: 12.8027 - val_mae: 2.5594\n",
      "Epoch 86/100\n",
      "11/11 [==============================] - 0s 5ms/step - loss: 7.3701 - mae: 2.0030 - val_loss: 13.3393 - val_mae: 2.6149\n",
      "Epoch 87/100\n",
      "11/11 [==============================] - 0s 4ms/step - loss: 7.3046 - mae: 1.9985 - val_loss: 13.4335 - val_mae: 2.6302\n",
      "Epoch 88/100\n",
      "11/11 [==============================] - 0s 4ms/step - loss: 7.1346 - mae: 1.9716 - val_loss: 12.7584 - val_mae: 2.5528\n",
      "Epoch 89/100\n",
      "11/11 [==============================] - 0s 4ms/step - loss: 7.1850 - mae: 1.9754 - val_loss: 12.4939 - val_mae: 2.5490\n",
      "Epoch 90/100\n",
      "11/11 [==============================] - 0s 5ms/step - loss: 7.1115 - mae: 1.9710 - val_loss: 12.6886 - val_mae: 2.5517\n",
      "Epoch 91/100\n",
      "11/11 [==============================] - 0s 5ms/step - loss: 7.0417 - mae: 1.9614 - val_loss: 12.9076 - val_mae: 2.5561\n",
      "Epoch 92/100\n",
      "11/11 [==============================] - 0s 5ms/step - loss: 7.0353 - mae: 1.9490 - val_loss: 13.1302 - val_mae: 2.5483\n",
      "Epoch 93/100\n",
      "11/11 [==============================] - 0s 4ms/step - loss: 6.9807 - mae: 1.9442 - val_loss: 13.2933 - val_mae: 2.6011\n",
      "Epoch 94/100\n",
      "11/11 [==============================] - 0s 4ms/step - loss: 6.9944 - mae: 1.9516 - val_loss: 12.8962 - val_mae: 2.5882\n",
      "Epoch 95/100\n",
      "11/11 [==============================] - 0s 4ms/step - loss: 6.8589 - mae: 1.9300 - val_loss: 12.4704 - val_mae: 2.5402\n",
      "Epoch 96/100\n",
      "11/11 [==============================] - 0s 4ms/step - loss: 7.1351 - mae: 2.0000 - val_loss: 12.4399 - val_mae: 2.6161\n",
      "Epoch 97/100\n",
      "11/11 [==============================] - 0s 4ms/step - loss: 7.3739 - mae: 2.0368 - val_loss: 13.0358 - val_mae: 2.6145\n",
      "Epoch 98/100\n",
      "11/11 [==============================] - 0s 5ms/step - loss: 6.9406 - mae: 1.9486 - val_loss: 13.2891 - val_mae: 2.5963\n",
      "Epoch 99/100\n",
      "11/11 [==============================] - 0s 5ms/step - loss: 6.7401 - mae: 1.9304 - val_loss: 12.5828 - val_mae: 2.5629\n",
      "Epoch 100/100\n",
      "11/11 [==============================] - 0s 4ms/step - loss: 6.7527 - mae: 1.9183 - val_loss: 12.5673 - val_mae: 2.5481\n"
     ]
    }
   ],
   "source": [
    "history=model.fit(x_train_scaled,y_train,validation_split=0.2,epochs=100)"
   ]
  },
  {
   "cell_type": "code",
   "execution_count": 397,
   "id": "f6eb9214",
   "metadata": {},
   "outputs": [],
   "source": [
    "loss = history.history['loss']\n",
    "val_loss = history.history['val_loss']\n",
    "epochs = range(1,len(loss) + 1)"
   ]
  },
  {
   "cell_type": "code",
   "execution_count": 398,
   "id": "97d869ce",
   "metadata": {},
   "outputs": [
    {
     "data": {
      "image/png": "[encoded data removed]",
      "text/plain": [
       "<Figure size 432x288 with 1 Axes>"
      ]
     },
     "metadata": {
      "needs_background": "light"
     },
     "output_type": "display_data"
    }
   ],
   "source": [
    "plt.plot(epochs,loss,'y',label='Training loss')\n",
    "plt.plot(epochs,val_loss,'r',label='Validation loss')\n",
    "plt.title('Training and validation loss')\n",
    "plt.xlabel('Epochs')\n",
    "plt.ylabel('Loss')\n",
    "plt.legend()\n",
    "plt.show()"
   ]
  },
  {
   "cell_type": "code",
   "execution_count": 399,
   "id": "a79b6aaa",
   "metadata": {},
   "outputs": [],
   "source": [
    "acc = history.history['mae']\n",
    "val_acc = history.history['val_mae']"
   ]
  },
  {
   "cell_type": "code",
   "execution_count": 400,
   "id": "62540797",
   "metadata": {},
   "outputs": [
    {
     "data": {
      "image/png": "[encoded data removed]",
      "text/plain": [
       "<Figure size 432x288 with 1 Axes>"
      ]
     },
     "metadata": {
      "needs_background": "light"
     },
     "output_type": "display_data"
    }
   ],
   "source": [
    "plt.plot(epochs,acc,'y',label='Training MAE')\n",
    "plt.plot(epochs,val_acc,'r',label='Validation MAE')\n",
    "plt.title('Training and validation MAE')\n",
    "plt.xlabel('Epochs')\n",
    "plt.ylabel('Accuracy')\n",
    "plt.legend()\n",
    "plt.show()"
   ]
  },
  {
   "cell_type": "code",
   "execution_count": 401,
   "id": "96823727",
   "metadata": {},
   "outputs": [
    {
     "name": "stdout",
     "output_type": "stream",
     "text": [
      "1/1 [==============================] - 0s 54ms/step\n",
      "Predicted values are:  [[10.415013]\n",
      " [19.036076]\n",
      " [18.690876]\n",
      " [11.598321]\n",
      " [18.761002]]\n",
      "real values are:  477    12.0\n",
      "15     19.9\n",
      "332    19.4\n",
      "423    13.4\n",
      "19     18.2\n",
      "Name: PRICE, dtype: float64\n"
     ]
    }
   ],
   "source": [
    "predictions = model.predict(x_train_scaled[:5])\n",
    "print(\"Predicted values are: \",predictions)\n",
    "print(\"real values are: \",y_train[:5])"
   ]
  },
  {
   "cell_type": "code",
   "execution_count": 402,
   "id": "640ea4e4",
   "metadata": {},
   "outputs": [],
   "source": [
    "np.random.seed(0)"
   ]
  },
  {
   "cell_type": "code",
   "execution_count": 403,
   "id": "b137b0c5",
   "metadata": {},
   "outputs": [
    {
     "name": "stdout",
     "output_type": "stream",
     "text": [
      "4/4 [==============================] - 0s 2ms/step - loss: 11.3964 - mae: 2.2383\n",
      "Mean squared error from neural net:  11.396370887756348\n",
      "Mean absolute error from neural net:  2.2382733821868896\n"
     ]
    }
   ],
   "source": [
    "mse_neural, mae_neural = model.evaluate(x_test_scaled,y_test)\n",
    "print('Mean squared error from neural net: ',mse_neural)\n",
    "print('Mean absolute error from neural net: ',mae_neural)"
   ]
  },
  {
   "cell_type": "code",
   "execution_count": 404,
   "id": "c0be7437",
   "metadata": {},
   "outputs": [
    {
     "name": "stdout",
     "output_type": "stream",
     "text": [
      "Mean squared error from random forest:  7.568286165577344\n",
      "Mean absolute error from random forest:  2.0302287581699345\n"
     ]
    }
   ],
   "source": [
    "model=RandomForestRegressor(n_estimators=60,random_state=42)\n",
    "model.fit(x_train_scaled,y_train)\n",
    "y_pred_RF=model.predict(x_test_scaled)\n",
    "mse_RF = mean_squared_error(y_test,y_pred_RF)\n",
    "mae_RF=mean_absolute_error(y_test,y_pred_RF)\n",
    "print('Mean squared error from random forest: ',mse_RF)\n",
    "print('Mean absolute error from random forest: ',mae_RF)"
   ]
  },
  {
   "cell_type": "code",
   "execution_count": 405,
   "id": "87399d0a",
   "metadata": {},
   "outputs": [
    {
     "name": "stdout",
     "output_type": "stream",
     "text": [
      "Mean squared error from decision tree:  10.344628592035763\n",
      "Mean absolute error from decision tree:  2.5312140295562244\n"
     ]
    }
   ],
   "source": [
    "tree=DecisionTreeRegressor(random_state=0,max_depth=5,min_samples_leaf=4)\n",
    "tree.fit(x_train_scaled,y_train)\n",
    "y_pred_tree=tree.predict(x_test_scaled)\n",
    "mse_dt = mean_squared_error(y_test,y_pred_tree)\n",
    "mae_dt=mean_absolute_error(y_test,y_pred_tree)\n",
    "print('Mean squared error from decision tree: ',mse_dt)\n",
    "print('Mean absolute error from decision tree: ',mae_dt)"
   ]
  },
  {
   "cell_type": "code",
   "execution_count": 406,
   "id": "a621ed4f",
   "metadata": {},
   "outputs": [
    {
     "name": "stdout",
     "output_type": "stream",
     "text": [
      "Mean squared error from linear regression:  24.29111947497352\n",
      "Mean absolute error from linear regression:  3.189091965887848\n"
     ]
    }
   ],
   "source": [
    "lr_model=linear_model.LinearRegression()\n",
    "lr_model.fit(x_train_scaled,y_train)\n",
    "y_pred_lr=lr_model.predict(x_test_scaled)\n",
    "mse_lr = mean_squared_error(y_test,y_pred_lr)\n",
    "mae_lr=mean_absolute_error(y_test,y_pred_lr)\n",
    "print('Mean squared error from linear regression: ',mse_lr)\n",
    "print('Mean absolute error from linear regression: ',mae_lr)"
   ]
  },
  {
   "cell_type": "code",
   "execution_count": 407,
   "id": "f6e19274",
   "metadata": {},
   "outputs": [
    {
     "data": {
      "text/plain": [
       "RM         0.511794\n",
       "LSTAT      0.299891\n",
       "DIS        0.064036\n",
       "CRIM       0.036261\n",
       "PTRATIO    0.016425\n",
       "NOX        0.016403\n",
       "TAX        0.014468\n",
       "AGE        0.013584\n",
       "B          0.012364\n",
       "INDUS      0.008746\n",
       "RAD        0.003285\n",
       "ZN         0.001626\n",
       "CHAS       0.001118\n",
       "dtype: float64"
      ]
     },
     "execution_count": 407,
     "metadata": {},
     "output_type": "execute_result"
    }
   ],
   "source": [
    "feature_list = list(x.columns)\n",
    "feature_imp=pd.Series(model.feature_importances_,index=feature_list).sort_values(ascending=False)\n",
    "feature_imp"
   ]
  }
 ],
 "metadata": {
  "kernelspec": {
   "display_name": "Python 3 (ipykernel)",
   "language": "python",
   "name": "python3"
  },
  "language_info": {
   "codemirror_mode": {
    "name": "ipython",
    "version": 3
   },
   "file_extension": ".py",
   "mimetype": "text/x-python",
   "name": "python",
   "nbconvert_exporter": "python",
   "pygments_lexer": "ipython3",
   "version": "3.9.12"
  }
 },
 "nbformat": 4,
 "nbformat_minor": 5
}
