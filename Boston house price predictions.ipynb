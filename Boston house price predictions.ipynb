{
 "cells": [
  {
   "cell_type": "code",
   "execution_count": 329,
   "id": "143b7460",
   "metadata": {
    "scrolled": false
   },
   "outputs": [],
   "source": [
    "import warnings\n",
    "import numpy as np\n",
    "import pandas as pd\n",
    "from sklearn import linear_model\n",
    "from matplotlib import pyplot as plt\n",
    "from tensorflow.keras.layers import Dense\n",
    "from sklearn.tree import DecisionTreeRegressor\n",
    "from tensorflow.keras.models import Sequential\n",
    "from sklearn.preprocessing import StandardScaler\n",
    "from sklearn.ensemble import RandomForestRegressor\n",
    "from sklearn.model_selection import train_test_split\n",
    "from sklearn.metrics import mean_squared_error, mean_absolute_error\n",
    "warnings.filterwarnings(\"ignore\")"
   ]
  },
  {
   "cell_type": "code",
   "execution_count": 330,
   "id": "6628146e",
   "metadata": {},
   "outputs": [],
   "source": [
    "df=pd.read_csv(r\"\\Users\\Family\\Downloads\\archive (2)\\hou_all.csv\",header=None)"
   ]
  },
  {
   "cell_type": "code",
   "execution_count": 331,
   "id": "cda9bda7",
   "metadata": {},
   "outputs": [],
   "source": [
    "feature_names = ['CRIM','ZN','INDUS','CHAS','NOX','RM','AGE',\n",
    "                'DIS','RAD','TAX','PTRATIO','B','LSTAT','PRICE','v']\n",
    "df.columns = feature_names  "
   ]
  },
  {
   "cell_type": "code",
   "execution_count": 332,
   "id": "e5d384aa",
   "metadata": {
    "scrolled": true
   },
   "outputs": [
    {
     "data": {
      "text/html": [
       "<div>\n",
       "<style scoped>\n",
       "    .dataframe tbody tr th:only-of-type {\n",
       "        vertical-align: middle;\n",
       "    }\n",
       "\n",
       "    .dataframe tbody tr th {\n",
       "        vertical-align: top;\n",
       "    }\n",
       "\n",
       "    .dataframe thead th {\n",
       "        text-align: right;\n",
       "    }\n",
       "</style>\n",
       "<table border=\"1\" class=\"dataframe\">\n",
       "  <thead>\n",
       "    <tr style=\"text-align: right;\">\n",
       "      <th></th>\n",
       "      <th>CRIM</th>\n",
       "      <th>ZN</th>\n",
       "      <th>INDUS</th>\n",
       "      <th>CHAS</th>\n",
       "      <th>NOX</th>\n",
       "      <th>RM</th>\n",
       "      <th>AGE</th>\n",
       "      <th>DIS</th>\n",
       "      <th>RAD</th>\n",
       "      <th>TAX</th>\n",
       "      <th>PTRATIO</th>\n",
       "      <th>B</th>\n",
       "      <th>LSTAT</th>\n",
       "      <th>PRICE</th>\n",
       "      <th>v</th>\n",
       "    </tr>\n",
       "  </thead>\n",
       "  <tbody>\n",
       "    <tr>\n",
       "      <th>0</th>\n",
       "      <td>0.00632</td>\n",
       "      <td>18.0</td>\n",
       "      <td>2.31</td>\n",
       "      <td>0</td>\n",
       "      <td>0.538</td>\n",
       "      <td>6.575</td>\n",
       "      <td>65.2</td>\n",
       "      <td>4.0900</td>\n",
       "      <td>1</td>\n",
       "      <td>296</td>\n",
       "      <td>15.3</td>\n",
       "      <td>396.90</td>\n",
       "      <td>4.98</td>\n",
       "      <td>24.0</td>\n",
       "      <td>1</td>\n",
       "    </tr>\n",
       "    <tr>\n",
       "      <th>1</th>\n",
       "      <td>0.02731</td>\n",
       "      <td>0.0</td>\n",
       "      <td>7.07</td>\n",
       "      <td>0</td>\n",
       "      <td>0.469</td>\n",
       "      <td>6.421</td>\n",
       "      <td>78.9</td>\n",
       "      <td>4.9671</td>\n",
       "      <td>2</td>\n",
       "      <td>242</td>\n",
       "      <td>17.8</td>\n",
       "      <td>396.90</td>\n",
       "      <td>9.14</td>\n",
       "      <td>21.6</td>\n",
       "      <td>1</td>\n",
       "    </tr>\n",
       "    <tr>\n",
       "      <th>2</th>\n",
       "      <td>0.02729</td>\n",
       "      <td>0.0</td>\n",
       "      <td>7.07</td>\n",
       "      <td>0</td>\n",
       "      <td>0.469</td>\n",
       "      <td>7.185</td>\n",
       "      <td>61.1</td>\n",
       "      <td>4.9671</td>\n",
       "      <td>2</td>\n",
       "      <td>242</td>\n",
       "      <td>17.8</td>\n",
       "      <td>392.83</td>\n",
       "      <td>4.03</td>\n",
       "      <td>34.7</td>\n",
       "      <td>1</td>\n",
       "    </tr>\n",
       "    <tr>\n",
       "      <th>3</th>\n",
       "      <td>0.03237</td>\n",
       "      <td>0.0</td>\n",
       "      <td>2.18</td>\n",
       "      <td>0</td>\n",
       "      <td>0.458</td>\n",
       "      <td>6.998</td>\n",
       "      <td>45.8</td>\n",
       "      <td>6.0622</td>\n",
       "      <td>3</td>\n",
       "      <td>222</td>\n",
       "      <td>18.7</td>\n",
       "      <td>394.63</td>\n",
       "      <td>2.94</td>\n",
       "      <td>33.4</td>\n",
       "      <td>1</td>\n",
       "    </tr>\n",
       "    <tr>\n",
       "      <th>4</th>\n",
       "      <td>0.06905</td>\n",
       "      <td>0.0</td>\n",
       "      <td>2.18</td>\n",
       "      <td>0</td>\n",
       "      <td>0.458</td>\n",
       "      <td>7.147</td>\n",
       "      <td>54.2</td>\n",
       "      <td>6.0622</td>\n",
       "      <td>3</td>\n",
       "      <td>222</td>\n",
       "      <td>18.7</td>\n",
       "      <td>396.90</td>\n",
       "      <td>5.33</td>\n",
       "      <td>36.2</td>\n",
       "      <td>1</td>\n",
       "    </tr>\n",
       "  </tbody>\n",
       "</table>\n",
       "</div>"
      ],
      "text/plain": [
       "      CRIM    ZN  INDUS  CHAS    NOX     RM   AGE     DIS  RAD  TAX  PTRATIO       B  LSTAT  PRICE  v\n",
       "0  0.00632  18.0   2.31     0  0.538  6.575  65.2  4.0900    1  296     15.3  396.90   4.98   24.0  1\n",
       "1  0.02731   0.0   7.07     0  0.469  6.421  78.9  4.9671    2  242     17.8  396.90   9.14   21.6  1\n",
       "2  0.02729   0.0   7.07     0  0.469  7.185  61.1  4.9671    2  242     17.8  392.83   4.03   34.7  1\n",
       "3  0.03237   0.0   2.18     0  0.458  6.998  45.8  6.0622    3  222     18.7  394.63   2.94   33.4  1\n",
       "4  0.06905   0.0   2.18     0  0.458  7.147  54.2  6.0622    3  222     18.7  396.90   5.33   36.2  1"
      ]
     },
     "execution_count": 332,
     "metadata": {},
     "output_type": "execute_result"
    }
   ],
   "source": [
    "df.head()"
   ]
  },
  {
   "cell_type": "markdown",
   "id": "1586633e",
   "metadata": {},
   "source": [
    "CRIM: per capita crime rate by town\n",
    "\n",
    "ZN: proportion of residential land zoned for lots over 25,000 sq.ft.\n",
    "\n",
    "INDUS: proportion of non_retial business acres per town\n",
    "\n",
    "CHAS: Charles River dummy variable (equal 1 if track nbounds river and 0 otherwise)\n",
    "\n",
    "NOX: nitric oxides concetration (parts per 10 million)\n",
    "\n",
    "RM: average number of rooms per dwelling \n",
    "\n",
    "AGE: proportionrtion of owner-occupied units built prior to 1940\n",
    "\n",
    "DIS: weighted distances to five Boston employment centers\n",
    "\n",
    "RAD: index of accessibility to radial highways\n",
    "\n",
    "TAX: full-value property-tax rate per $10,000\n",
    "\n",
    "PTRATIO: pupil-teacher ratio by town\n",
    "\n",
    "B: 1000(BK - 0.63)^2 where BK is the proportion of blacks by town\n",
    "\n",
    "LSTAT: % lower status of the population\n",
    "\n",
    "PRICE (MEDV): Median value of owner-occupied homes in $1000's\n",
    "    "
   ]
  },
  {
   "cell_type": "code",
   "execution_count": 333,
   "id": "4ac581df",
   "metadata": {},
   "outputs": [],
   "source": [
    "x=df.drop(['PRICE','v'],axis=1)\n",
    "y=df['PRICE']"
   ]
  },
  {
   "cell_type": "code",
   "execution_count": 334,
   "id": "d007336c",
   "metadata": {},
   "outputs": [],
   "source": [
    "x_train,x_test,y_train,y_test = train_test_split(x,y,test_size=0.2,random_state=20)"
   ]
  },
  {
   "cell_type": "code",
   "execution_count": 335,
   "id": "e0c08011",
   "metadata": {},
   "outputs": [],
   "source": [
    "scaler = StandardScaler()\n",
    "scaler.fit(x_train)\n",
    "x_train_scaled=scaler.transform(x_train)\n",
    "x_test_scaled=scaler.transform(x_test)"
   ]
  },
  {
   "cell_type": "code",
   "execution_count": 336,
   "id": "1f523216",
   "metadata": {},
   "outputs": [],
   "source": [
    "model = Sequential()\n",
    "model.add(Dense(128,input_dim=13,activation='relu'))\n",
    "model.add(Dense(64,activation='relu'))\n",
    "\n",
    "model.add(Dense(1,activation='linear'))"
   ]
  },
  {
   "cell_type": "code",
   "execution_count": 337,
   "id": "1c7ad405",
   "metadata": {},
   "outputs": [],
   "source": [
    "model.compile(loss='mean_squared_error',optimizer='adam',metrics=['mae'])"
   ]
  },
  {
   "cell_type": "code",
   "execution_count": 338,
   "id": "e2f77ea8",
   "metadata": {},
   "outputs": [
    {
     "name": "stdout",
     "output_type": "stream",
     "text": [
      "Model: \"sequential_12\"\n",
      "_________________________________________________________________\n",
      " Layer (type)                Output Shape              Param #   \n",
      "=================================================================\n",
      " dense_36 (Dense)            (None, 128)               1792      \n",
      "                                                                 \n",
      " dense_37 (Dense)            (None, 64)                8256      \n",
      "                                                                 \n",
      " dense_38 (Dense)            (None, 1)                 65        \n",
      "                                                                 \n",
      "=================================================================\n",
      "Total params: 10113 (39.50 KB)\n",
      "Trainable params: 10113 (39.50 KB)\n",
      "Non-trainable params: 0 (0.00 Byte)\n",
      "_________________________________________________________________\n"
     ]
    }
   ],
   "source": [
    "model.summary()"
   ]
  },
  {
   "cell_type": "code",
   "execution_count": 339,
   "id": "a0cf3c0c",
   "metadata": {},
   "outputs": [
    {
     "name": "stdout",
     "output_type": "stream",
     "text": [
      "Epoch 1/100\n",
      "11/11 [==============================] - 1s 24ms/step - loss: 568.8124 - mae: 21.9640 - val_loss: 584.6930 - val_mae: 22.1275\n",
      "Epoch 2/100\n",
      "11/11 [==============================] - 0s 5ms/step - loss: 508.2328 - mae: 20.5337 - val_loss: 510.9919 - val_mae: 20.4776\n",
      "Epoch 3/100\n",
      "11/11 [==============================] - 0s 5ms/step - loss: 434.2271 - mae: 18.7244 - val_loss: 412.1993 - val_mae: 18.1030\n",
      "Epoch 4/100\n",
      "11/11 [==============================] - 0s 5ms/step - loss: 339.1388 - mae: 16.1767 - val_loss: 286.0352 - val_mae: 14.7277\n",
      "Epoch 5/100\n",
      "11/11 [==============================] - 0s 5ms/step - loss: 223.8520 - mae: 12.6836 - val_loss: 157.9115 - val_mae: 10.6437\n",
      "Epoch 6/100\n",
      "11/11 [==============================] - 0s 5ms/step - loss: 125.8167 - mae: 8.8852 - val_loss: 73.0831 - val_mae: 7.0097\n",
      "Epoch 7/100\n",
      "11/11 [==============================] - 0s 5ms/step - loss: 76.0942 - mae: 6.5841 - val_loss: 42.8616 - val_mae: 5.1569\n",
      "Epoch 8/100\n",
      "11/11 [==============================] - 0s 5ms/step - loss: 56.7796 - mae: 5.5814 - val_loss: 33.4879 - val_mae: 4.5865\n",
      "Epoch 9/100\n",
      "11/11 [==============================] - 0s 5ms/step - loss: 43.9889 - mae: 4.8051 - val_loss: 27.4076 - val_mae: 4.1673\n",
      "Epoch 10/100\n",
      "11/11 [==============================] - 0s 5ms/step - loss: 35.9524 - mae: 4.2447 - val_loss: 25.4338 - val_mae: 4.0483\n",
      "Epoch 11/100\n",
      "11/11 [==============================] - 0s 5ms/step - loss: 31.5908 - mae: 3.9225 - val_loss: 23.2399 - val_mae: 3.8866\n",
      "Epoch 12/100\n",
      "11/11 [==============================] - 0s 5ms/step - loss: 28.6234 - mae: 3.7259 - val_loss: 21.4761 - val_mae: 3.7587\n",
      "Epoch 13/100\n",
      "11/11 [==============================] - 0s 5ms/step - loss: 26.5341 - mae: 3.6099 - val_loss: 20.4866 - val_mae: 3.6975\n",
      "Epoch 14/100\n",
      "11/11 [==============================] - 0s 5ms/step - loss: 25.3256 - mae: 3.5465 - val_loss: 19.2099 - val_mae: 3.6022\n",
      "Epoch 15/100\n",
      "11/11 [==============================] - 0s 5ms/step - loss: 24.0761 - mae: 3.4945 - val_loss: 19.5594 - val_mae: 3.6201\n",
      "Epoch 16/100\n",
      "11/11 [==============================] - 0s 5ms/step - loss: 22.9564 - mae: 3.3962 - val_loss: 18.3520 - val_mae: 3.4830\n",
      "Epoch 17/100\n",
      "11/11 [==============================] - 0s 5ms/step - loss: 21.7494 - mae: 3.2571 - val_loss: 17.2371 - val_mae: 3.3858\n",
      "Epoch 18/100\n",
      "11/11 [==============================] - 0s 5ms/step - loss: 21.0242 - mae: 3.1926 - val_loss: 16.6433 - val_mae: 3.3321\n",
      "Epoch 19/100\n",
      "11/11 [==============================] - 0s 4ms/step - loss: 20.3036 - mae: 3.1110 - val_loss: 16.7760 - val_mae: 3.3254\n",
      "Epoch 20/100\n",
      "11/11 [==============================] - 0s 4ms/step - loss: 19.6251 - mae: 3.0638 - val_loss: 16.1444 - val_mae: 3.2521\n",
      "Epoch 21/100\n",
      "11/11 [==============================] - 0s 5ms/step - loss: 19.0186 - mae: 3.0082 - val_loss: 15.5297 - val_mae: 3.1968\n",
      "Epoch 22/100\n",
      "11/11 [==============================] - 0s 5ms/step - loss: 18.3806 - mae: 2.9543 - val_loss: 15.0120 - val_mae: 3.1505\n",
      "Epoch 23/100\n",
      "11/11 [==============================] - 0s 4ms/step - loss: 17.8255 - mae: 2.9285 - val_loss: 14.7009 - val_mae: 3.0959\n",
      "Epoch 24/100\n",
      "11/11 [==============================] - 0s 5ms/step - loss: 17.4241 - mae: 2.9264 - val_loss: 14.3552 - val_mae: 3.0537\n",
      "Epoch 25/100\n",
      "11/11 [==============================] - 0s 5ms/step - loss: 16.6063 - mae: 2.8034 - val_loss: 14.7618 - val_mae: 3.0411\n",
      "Epoch 26/100\n",
      "11/11 [==============================] - 0s 5ms/step - loss: 16.5596 - mae: 2.8221 - val_loss: 15.1898 - val_mae: 3.0104\n",
      "Epoch 27/100\n",
      "11/11 [==============================] - 0s 4ms/step - loss: 15.8365 - mae: 2.7601 - val_loss: 13.9392 - val_mae: 2.9555\n",
      "Epoch 28/100\n",
      "11/11 [==============================] - 0s 5ms/step - loss: 15.3936 - mae: 2.7119 - val_loss: 13.6216 - val_mae: 2.9353\n",
      "Epoch 29/100\n",
      "11/11 [==============================] - 0s 5ms/step - loss: 14.9909 - mae: 2.6566 - val_loss: 13.8552 - val_mae: 2.9173\n",
      "Epoch 30/100\n",
      "11/11 [==============================] - 0s 5ms/step - loss: 14.4466 - mae: 2.6118 - val_loss: 13.3275 - val_mae: 2.8627\n",
      "Epoch 31/100\n",
      "11/11 [==============================] - 0s 4ms/step - loss: 14.1050 - mae: 2.5890 - val_loss: 13.0038 - val_mae: 2.8376\n",
      "Epoch 32/100\n",
      "11/11 [==============================] - 0s 5ms/step - loss: 13.7433 - mae: 2.5563 - val_loss: 13.0532 - val_mae: 2.8362\n",
      "Epoch 33/100\n",
      "11/11 [==============================] - 0s 5ms/step - loss: 13.4996 - mae: 2.5371 - val_loss: 12.6881 - val_mae: 2.7984\n",
      "Epoch 34/100\n",
      "11/11 [==============================] - 0s 4ms/step - loss: 13.2681 - mae: 2.5037 - val_loss: 12.6140 - val_mae: 2.7904\n",
      "Epoch 35/100\n",
      "11/11 [==============================] - 0s 5ms/step - loss: 12.9829 - mae: 2.4641 - val_loss: 12.7059 - val_mae: 2.7767\n",
      "Epoch 36/100\n",
      "11/11 [==============================] - 0s 4ms/step - loss: 12.7125 - mae: 2.4467 - val_loss: 12.3576 - val_mae: 2.7476\n",
      "Epoch 37/100\n",
      "11/11 [==============================] - 0s 5ms/step - loss: 12.7141 - mae: 2.4606 - val_loss: 11.6842 - val_mae: 2.7174\n",
      "Epoch 38/100\n",
      "11/11 [==============================] - 0s 5ms/step - loss: 12.4357 - mae: 2.4017 - val_loss: 11.8209 - val_mae: 2.6776\n",
      "Epoch 39/100\n",
      "11/11 [==============================] - 0s 5ms/step - loss: 12.2568 - mae: 2.4004 - val_loss: 12.9753 - val_mae: 2.7869\n",
      "Epoch 40/100\n",
      "11/11 [==============================] - 0s 5ms/step - loss: 12.1217 - mae: 2.4188 - val_loss: 12.3673 - val_mae: 2.7669\n",
      "Epoch 41/100\n",
      "11/11 [==============================] - 0s 5ms/step - loss: 11.8473 - mae: 2.3815 - val_loss: 12.0359 - val_mae: 2.7574\n",
      "Epoch 42/100\n",
      "11/11 [==============================] - 0s 4ms/step - loss: 11.8632 - mae: 2.3234 - val_loss: 12.3585 - val_mae: 2.7747\n",
      "Epoch 43/100\n",
      "11/11 [==============================] - 0s 5ms/step - loss: 11.4981 - mae: 2.2991 - val_loss: 11.8447 - val_mae: 2.7312\n",
      "Epoch 44/100\n",
      "11/11 [==============================] - 0s 5ms/step - loss: 11.2299 - mae: 2.3070 - val_loss: 12.3607 - val_mae: 2.7805\n",
      "Epoch 45/100\n",
      "11/11 [==============================] - 0s 5ms/step - loss: 11.3604 - mae: 2.3256 - val_loss: 12.6233 - val_mae: 2.8130\n",
      "Epoch 46/100\n",
      "11/11 [==============================] - 0s 5ms/step - loss: 11.1524 - mae: 2.3045 - val_loss: 11.8604 - val_mae: 2.7566\n",
      "Epoch 47/100\n",
      "11/11 [==============================] - 0s 5ms/step - loss: 10.8862 - mae: 2.2859 - val_loss: 11.4619 - val_mae: 2.7337\n",
      "Epoch 48/100\n",
      "11/11 [==============================] - 0s 5ms/step - loss: 10.7444 - mae: 2.2552 - val_loss: 11.6226 - val_mae: 2.7015\n",
      "Epoch 49/100\n",
      "11/11 [==============================] - 0s 5ms/step - loss: 10.5979 - mae: 2.2153 - val_loss: 11.3782 - val_mae: 2.6942\n",
      "Epoch 50/100\n",
      "11/11 [==============================] - 0s 4ms/step - loss: 10.4508 - mae: 2.2134 - val_loss: 11.5827 - val_mae: 2.7200\n",
      "Epoch 51/100\n",
      "11/11 [==============================] - 0s 4ms/step - loss: 10.2585 - mae: 2.2014 - val_loss: 11.5394 - val_mae: 2.7131\n",
      "Epoch 52/100\n",
      "11/11 [==============================] - 0s 4ms/step - loss: 10.1233 - mae: 2.1831 - val_loss: 11.4997 - val_mae: 2.7122\n",
      "Epoch 53/100\n",
      "11/11 [==============================] - 0s 4ms/step - loss: 10.0192 - mae: 2.1635 - val_loss: 11.4581 - val_mae: 2.6989\n",
      "Epoch 54/100\n",
      "11/11 [==============================] - 0s 4ms/step - loss: 10.0096 - mae: 2.1588 - val_loss: 11.3561 - val_mae: 2.6877\n",
      "Epoch 55/100\n",
      "11/11 [==============================] - 0s 4ms/step - loss: 9.8487 - mae: 2.1623 - val_loss: 11.3178 - val_mae: 2.6859\n",
      "Epoch 56/100\n",
      "11/11 [==============================] - 0s 5ms/step - loss: 9.7743 - mae: 2.1594 - val_loss: 11.1466 - val_mae: 2.6741\n",
      "Epoch 57/100\n",
      "11/11 [==============================] - 0s 5ms/step - loss: 10.0523 - mae: 2.2395 - val_loss: 12.2992 - val_mae: 2.7087\n",
      "Epoch 58/100\n",
      "11/11 [==============================] - 0s 4ms/step - loss: 9.7267 - mae: 2.1890 - val_loss: 11.4686 - val_mae: 2.6672\n",
      "Epoch 59/100\n",
      "11/11 [==============================] - 0s 4ms/step - loss: 9.6343 - mae: 2.1399 - val_loss: 11.6950 - val_mae: 2.6966\n",
      "Epoch 60/100\n",
      "11/11 [==============================] - 0s 4ms/step - loss: 9.3864 - mae: 2.1232 - val_loss: 11.5005 - val_mae: 2.6802\n",
      "Epoch 61/100\n",
      "11/11 [==============================] - 0s 4ms/step - loss: 9.1931 - mae: 2.1223 - val_loss: 11.2181 - val_mae: 2.6792\n",
      "Epoch 62/100\n"
     ]
    },
    {
     "name": "stdout",
     "output_type": "stream",
     "text": [
      "11/11 [==============================] - 0s 4ms/step - loss: 9.1960 - mae: 2.1367 - val_loss: 11.3528 - val_mae: 2.6696\n",
      "Epoch 63/100\n",
      "11/11 [==============================] - 0s 4ms/step - loss: 9.3099 - mae: 2.1393 - val_loss: 11.6635 - val_mae: 2.6972\n",
      "Epoch 64/100\n",
      "11/11 [==============================] - 0s 4ms/step - loss: 8.9800 - mae: 2.0800 - val_loss: 11.4059 - val_mae: 2.7160\n",
      "Epoch 65/100\n",
      "11/11 [==============================] - 0s 4ms/step - loss: 8.9196 - mae: 2.0737 - val_loss: 11.4740 - val_mae: 2.6943\n",
      "Epoch 66/100\n",
      "11/11 [==============================] - 0s 5ms/step - loss: 8.7942 - mae: 2.0512 - val_loss: 11.0196 - val_mae: 2.6637\n",
      "Epoch 67/100\n",
      "11/11 [==============================] - 0s 4ms/step - loss: 8.7157 - mae: 2.0512 - val_loss: 11.0063 - val_mae: 2.6416\n",
      "Epoch 68/100\n",
      "11/11 [==============================] - 0s 5ms/step - loss: 8.6654 - mae: 2.0475 - val_loss: 11.2059 - val_mae: 2.6466\n",
      "Epoch 69/100\n",
      "11/11 [==============================] - 0s 7ms/step - loss: 8.6095 - mae: 2.0397 - val_loss: 10.8699 - val_mae: 2.6262\n",
      "Epoch 70/100\n",
      "11/11 [==============================] - 0s 5ms/step - loss: 8.9017 - mae: 2.0753 - val_loss: 10.8057 - val_mae: 2.6227\n",
      "Epoch 71/100\n",
      "11/11 [==============================] - 0s 6ms/step - loss: 8.6924 - mae: 2.0536 - val_loss: 11.5771 - val_mae: 2.6489\n",
      "Epoch 72/100\n",
      "11/11 [==============================] - 0s 6ms/step - loss: 8.3921 - mae: 2.0341 - val_loss: 10.8270 - val_mae: 2.6332\n",
      "Epoch 73/100\n",
      "11/11 [==============================] - 0s 4ms/step - loss: 8.4021 - mae: 2.0352 - val_loss: 10.9180 - val_mae: 2.6341\n",
      "Epoch 74/100\n",
      "11/11 [==============================] - 0s 4ms/step - loss: 8.3209 - mae: 1.9989 - val_loss: 11.1332 - val_mae: 2.6384\n",
      "Epoch 75/100\n",
      "11/11 [==============================] - 0s 4ms/step - loss: 8.1136 - mae: 1.9881 - val_loss: 11.0780 - val_mae: 2.6588\n",
      "Epoch 76/100\n",
      "11/11 [==============================] - 0s 4ms/step - loss: 8.0685 - mae: 1.9958 - val_loss: 11.1296 - val_mae: 2.6561\n",
      "Epoch 77/100\n",
      "11/11 [==============================] - 0s 6ms/step - loss: 7.9818 - mae: 1.9839 - val_loss: 11.0652 - val_mae: 2.6428\n",
      "Epoch 78/100\n",
      "11/11 [==============================] - 0s 5ms/step - loss: 7.9967 - mae: 1.9940 - val_loss: 11.0312 - val_mae: 2.6091\n",
      "Epoch 79/100\n",
      "11/11 [==============================] - 0s 5ms/step - loss: 7.9447 - mae: 1.9823 - val_loss: 10.8217 - val_mae: 2.6169\n",
      "Epoch 80/100\n",
      "11/11 [==============================] - 0s 5ms/step - loss: 7.8092 - mae: 1.9681 - val_loss: 10.7016 - val_mae: 2.6046\n",
      "Epoch 81/100\n",
      "11/11 [==============================] - 0s 4ms/step - loss: 7.9162 - mae: 1.9887 - val_loss: 10.6204 - val_mae: 2.5973\n",
      "Epoch 82/100\n",
      "11/11 [==============================] - 0s 4ms/step - loss: 7.7001 - mae: 1.9664 - val_loss: 10.7388 - val_mae: 2.6202\n",
      "Epoch 83/100\n",
      "11/11 [==============================] - 0s 4ms/step - loss: 8.1472 - mae: 2.0618 - val_loss: 11.3696 - val_mae: 2.6453\n",
      "Epoch 84/100\n",
      "11/11 [==============================] - 0s 4ms/step - loss: 7.9770 - mae: 1.9927 - val_loss: 11.1903 - val_mae: 2.6452\n",
      "Epoch 85/100\n",
      "11/11 [==============================] - 0s 4ms/step - loss: 7.6834 - mae: 1.9493 - val_loss: 11.6319 - val_mae: 2.7108\n",
      "Epoch 86/100\n",
      "11/11 [==============================] - 0s 5ms/step - loss: 7.7231 - mae: 1.9764 - val_loss: 10.6323 - val_mae: 2.6308\n",
      "Epoch 87/100\n",
      "11/11 [==============================] - 0s 4ms/step - loss: 7.4441 - mae: 1.9639 - val_loss: 10.7137 - val_mae: 2.6262\n",
      "Epoch 88/100\n",
      "11/11 [==============================] - 0s 6ms/step - loss: 7.3471 - mae: 1.9234 - val_loss: 10.3583 - val_mae: 2.5694\n",
      "Epoch 89/100\n",
      "11/11 [==============================] - 0s 4ms/step - loss: 7.3179 - mae: 1.9171 - val_loss: 10.5153 - val_mae: 2.5784\n",
      "Epoch 90/100\n",
      "11/11 [==============================] - 0s 4ms/step - loss: 7.1648 - mae: 1.9031 - val_loss: 10.5869 - val_mae: 2.5657\n",
      "Epoch 91/100\n",
      "11/11 [==============================] - 0s 4ms/step - loss: 7.5596 - mae: 1.9843 - val_loss: 10.8989 - val_mae: 2.6204\n",
      "Epoch 92/100\n",
      "11/11 [==============================] - 0s 4ms/step - loss: 7.2250 - mae: 1.9202 - val_loss: 11.0204 - val_mae: 2.6103\n",
      "Epoch 93/100\n",
      "11/11 [==============================] - 0s 4ms/step - loss: 7.2577 - mae: 1.9048 - val_loss: 10.9393 - val_mae: 2.6484\n",
      "Epoch 94/100\n",
      "11/11 [==============================] - 0s 5ms/step - loss: 7.1516 - mae: 1.9096 - val_loss: 10.4893 - val_mae: 2.5720\n",
      "Epoch 95/100\n",
      "11/11 [==============================] - 0s 5ms/step - loss: 6.8625 - mae: 1.8798 - val_loss: 10.9110 - val_mae: 2.6196\n",
      "Epoch 96/100\n",
      "11/11 [==============================] - 0s 5ms/step - loss: 7.0110 - mae: 1.8896 - val_loss: 10.2795 - val_mae: 2.5606\n",
      "Epoch 97/100\n",
      "11/11 [==============================] - 0s 5ms/step - loss: 6.9460 - mae: 1.8840 - val_loss: 10.3446 - val_mae: 2.5762\n",
      "Epoch 98/100\n",
      "11/11 [==============================] - 0s 5ms/step - loss: 6.8255 - mae: 1.8787 - val_loss: 10.5009 - val_mae: 2.5717\n",
      "Epoch 99/100\n",
      "11/11 [==============================] - 0s 5ms/step - loss: 6.7409 - mae: 1.8753 - val_loss: 10.7093 - val_mae: 2.5976\n",
      "Epoch 100/100\n",
      "11/11 [==============================] - 0s 5ms/step - loss: 6.7538 - mae: 1.8584 - val_loss: 10.5857 - val_mae: 2.5942\n"
     ]
    }
   ],
   "source": [
    "history=model.fit(x_train_scaled,y_train,validation_split=0.2,epochs=100)"
   ]
  },
  {
   "cell_type": "code",
   "execution_count": 340,
   "id": "f6eb9214",
   "metadata": {},
   "outputs": [],
   "source": [
    "loss = history.history['loss']\n",
    "val_loss = history.history['val_loss']\n",
    "epochs = range(1,len(loss) + 1)"
   ]
  },
  {
   "cell_type": "code",
   "execution_count": 341,
   "id": "97d869ce",
   "metadata": {},
   "outputs": [
    {
     "data": {
      "image/png": "[encoded data removed]",
      "text/plain": [
       "<Figure size 432x288 with 1 Axes>"
      ]
     },
     "metadata": {
      "needs_background": "light"
     },
     "output_type": "display_data"
    }
   ],
   "source": [
    "plt.plot(epochs,loss,'y',label='Training loss')\n",
    "plt.plot(epochs,val_loss,'r',label='Validation loss')\n",
    "plt.title('Training and validation loss')\n",
    "plt.xlabel('Epochs')\n",
    "plt.ylabel('Loss')\n",
    "plt.legend()\n",
    "plt.show()"
   ]
  },
  {
   "cell_type": "code",
   "execution_count": 342,
   "id": "a79b6aaa",
   "metadata": {},
   "outputs": [],
   "source": [
    "acc = history.history['mae']\n",
    "val_acc = history.history['val_mae']"
   ]
  },
  {
   "cell_type": "code",
   "execution_count": 343,
   "id": "62540797",
   "metadata": {},
   "outputs": [
    {
     "data": {
      "image/png": "[encoded data removed]",
      "text/plain": [
       "<Figure size 432x288 with 1 Axes>"
      ]
     },
     "metadata": {
      "needs_background": "light"
     },
     "output_type": "display_data"
    }
   ],
   "source": [
    "plt.plot(epochs,acc,'y',label='Training MAE')\n",
    "plt.plot(epochs,val_acc,'r',label='Validation MAE')\n",
    "plt.title('Training and validation MAE')\n",
    "plt.xlabel('Epochs')\n",
    "plt.ylabel('Accuracy')\n",
    "plt.legend()\n",
    "plt.show()"
   ]
  },
  {
   "cell_type": "code",
   "execution_count": 344,
   "id": "96823727",
   "metadata": {},
   "outputs": [
    {
     "name": "stdout",
     "output_type": "stream",
     "text": [
      "1/1 [==============================] - 0s 99ms/step\n",
      "Predicted values are:  [[20.648058]\n",
      " [43.97963 ]\n",
      " [27.44441 ]\n",
      " [14.200185]\n",
      " [14.624659]]\n",
      "real values are:  7      27.1\n",
      "268    43.5\n",
      "80     28.0\n",
      "30     12.7\n",
      "450    13.4\n",
      "Name: PRICE, dtype: float64\n"
     ]
    }
   ],
   "source": [
    "predictions = model.predict(x_train_scaled[:5])\n",
    "print(\"Predicted values are: \",predictions)\n",
    "print(\"real values are: \",y_train[:5])"
   ]
  },
  {
   "cell_type": "code",
   "execution_count": 345,
   "id": "640ea4e4",
   "metadata": {},
   "outputs": [],
   "source": [
    "np.random.seed(0)"
   ]
  },
  {
   "cell_type": "code",
   "execution_count": 346,
   "id": "b137b0c5",
   "metadata": {},
   "outputs": [
    {
     "name": "stdout",
     "output_type": "stream",
     "text": [
      "4/4 [==============================] - 0s 2ms/step - loss: 14.3914 - mae: 2.8318\n",
      "Mean squared error from neural net:  14.39144229888916\n",
      "Mean absolute error from neural net:  2.8318116664886475\n"
     ]
    }
   ],
   "source": [
    "mse_neural, mae_neural = model.evaluate(x_test_scaled,y_test)\n",
    "print('Mean squared error from neural net: ',mse_neural)\n",
    "print('Mean absolute error from neural net: ',mae_neural)"
   ]
  },
  {
   "cell_type": "code",
   "execution_count": 347,
   "id": "a621ed4f",
   "metadata": {},
   "outputs": [
    {
     "name": "stdout",
     "output_type": "stream",
     "text": [
      "Mean squared error from linear regression:  16.495351975931676\n",
      "Mean absolute error from linear regression:  3.0558941538909585\n"
     ]
    }
   ],
   "source": [
    "lr_model=linear_model.LinearRegression()\n",
    "lr_model.fit(x_train_scaled,y_train)\n",
    "y_pred_lr=lr_model.predict(x_test_scaled)\n",
    "mse_lr = mean_squared_error(y_test,y_pred_lr)\n",
    "mae_lr=mean_absolute_error(y_test,y_pred_lr)\n",
    "print('Mean squared error from linear regression: ',mse_lr)\n",
    "print('Mean absolute error from linear regression: ',mae_lr)"
   ]
  },
  {
   "cell_type": "code",
   "execution_count": 348,
   "id": "87399d0a",
   "metadata": {},
   "outputs": [
    {
     "name": "stdout",
     "output_type": "stream",
     "text": [
      "Mean squared error from decision tree:  14.889750121851376\n",
      "Mean absolute error from decision tree:  2.6757789924230377\n"
     ]
    }
   ],
   "source": [
    "tree=DecisionTreeRegressor(random_state=42,max_depth=5,min_samples_leaf=4)\n",
    "tree.fit(x_train_scaled,y_train)\n",
    "y_pred_tree=tree.predict(x_test_scaled)\n",
    "mse_dt = mean_squared_error(y_test,y_pred_tree)\n",
    "mae_dt=mean_absolute_error(y_test,y_pred_tree)\n",
    "print('Mean squared error from decision tree: ',mse_dt)\n",
    "print('Mean absolute error from decision tree: ',mae_dt)"
   ]
  },
  {
   "cell_type": "code",
   "execution_count": 349,
   "id": "c0be7437",
   "metadata": {},
   "outputs": [
    {
     "name": "stdout",
     "output_type": "stream",
     "text": [
      "Mean squared error from random forest:  12.701104793028327\n",
      "Mean absolute error from random forest:  2.408235294117647\n"
     ]
    }
   ],
   "source": [
    "model=RandomForestRegressor(n_estimators=30,random_state=30)\n",
    "model.fit(x_train_scaled,y_train)\n",
    "y_pred_RF=model.predict(x_test_scaled)\n",
    "mse_RF = mean_squared_error(y_test,y_pred_RF)\n",
    "mae_RF=mean_absolute_error(y_test,y_pred_RF)\n",
    "print('Mean squared error from random forest: ',mse_RF)\n",
    "print('Mean absolute error from random forest: ',mae_RF)"
   ]
  },
  {
   "cell_type": "code",
   "execution_count": 350,
   "id": "f6e19274",
   "metadata": {},
   "outputs": [
    {
     "data": {
      "text/plain": [
       "LSTAT      0.478879\n",
       "RM         0.338097\n",
       "DIS        0.063072\n",
       "CRIM       0.038339\n",
       "NOX        0.019377\n",
       "PTRATIO    0.014499\n",
       "B          0.013671\n",
       "TAX        0.013144\n",
       "AGE        0.010595\n",
       "INDUS      0.004749\n",
       "RAD        0.003753\n",
       "ZN         0.001460\n",
       "CHAS       0.000364\n",
       "dtype: float64"
      ]
     },
     "execution_count": 350,
     "metadata": {},
     "output_type": "execute_result"
    }
   ],
   "source": [
    "feature_list = list(x.columns)\n",
    "feature_imp=pd.Series(model.feature_importances_,index=feature_list).sort_values(ascending=False)\n",
    "feature_imp"
   ]
  }
 ],
 "metadata": {
  "kernelspec": {
   "display_name": "Python 3 (ipykernel)",
   "language": "python",
   "name": "python3"
  },
  "language_info": {
   "codemirror_mode": {
    "name": "ipython",
    "version": 3
   },
   "file_extension": ".py",
   "mimetype": "text/x-python",
   "name": "python",
   "nbconvert_exporter": "python",
   "pygments_lexer": "ipython3",
   "version": "3.9.12"
  }
 },
 "nbformat": 4,
 "nbformat_minor": 5
}
